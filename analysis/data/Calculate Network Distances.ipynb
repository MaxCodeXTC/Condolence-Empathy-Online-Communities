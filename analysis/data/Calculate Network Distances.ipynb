{
 "cells": [
  {
   "cell_type": "code",
   "execution_count": 17,
   "metadata": {},
   "outputs": [],
   "source": [
    "import pandas as pd\n",
    "import gzip\n",
    "from collections import *\n",
    "import networkx as nx\n",
    "from geopy.distance import distance\n",
    "from networkx import NetworkXError, NetworkXNoPath\n",
    "import tqdm\n",
    "import seaborn as sns"
   ]
  },
  {
   "cell_type": "markdown",
   "metadata": {},
   "source": [
    "# Optional: Load in specific users here"
   ]
  },
  {
   "cell_type": "code",
   "execution_count": null,
   "metadata": {},
   "outputs": [],
   "source": []
  },
  {
   "cell_type": "markdown",
   "metadata": {},
   "source": [
    "# Load in the inferred users' locations (if we want physical distance)"
   ]
  },
  {
   "cell_type": "code",
   "execution_count": 37,
   "metadata": {},
   "outputs": [
    {
     "data": {
      "application/vnd.jupyter.widget-view+json": {
       "model_id": "a1b6a506e2464574b4490dd600320f20",
       "version_major": 2,
       "version_minor": 0
      },
      "text/plain": [
       "HBox(children=(IntProgress(value=0, max=146000000), HTML(value='')))"
      ]
     },
     "metadata": {},
     "output_type": "display_data"
    },
    {
     "name": "stdout",
     "output_type": "stream",
     "text": [
      "\n"
     ]
    }
   ],
   "source": [
    "user_to_loc_line = {}\n",
    "with gzip.open('/shared/1/projects/location-inference/data/locations.2012-2019.from-merged.all.4-iter.tsv_iter_3.with-names.tsv.gz', 'rt') as f:\n",
    "    for line_no, line in tqdm.tqdm_notebook(enumerate(f, 1), total=146000000):\n",
    "        cols = line.split('\\t')\n",
    "        uid = int(cols[0])\n",
    "        if uid in users:\n",
    "            user_to_loc_line[uid] = line\n",
    "        if line_no % 1000000 == 0:\n",
    "            #print(\"saw %d lines; %d users\" % (line_no, len(user_to_loc_line)))\n",
    "            pass"
   ]
  },
  {
   "cell_type": "markdown",
   "metadata": {},
   "source": [
    "# Load in the social network"
   ]
  },
  {
   "cell_type": "code",
   "execution_count": 38,
   "metadata": {},
   "outputs": [
    {
     "data": {
      "application/vnd.jupyter.widget-view+json": {
       "model_id": "b7ab8596f40a4a1cb72d4dd64cf8967b",
       "version_major": 2,
       "version_minor": 0
      },
      "text/plain": [
       "HBox(children=(IntProgress(value=0, max=990000000), HTML(value='')))"
      ]
     },
     "metadata": {},
     "output_type": "display_data"
    },
    {
     "name": "stderr",
     "output_type": "stream",
     "text": [
      "IOPub message rate exceeded.\n",
      "The notebook server will temporarily stop sending output\n",
      "to the client in order to avoid crashing it.\n",
      "To change this limit, set the config variable\n",
      "`--NotebookApp.iopub_msg_rate_limit`.\n",
      "\n",
      "Current values:\n",
      "NotebookApp.iopub_msg_rate_limit=1000.0 (msgs/sec)\n",
      "NotebookApp.rate_limit_window=3.0 (secs)\n",
      "\n",
      "IOPub message rate exceeded.\n",
      "The notebook server will temporarily stop sending output\n",
      "to the client in order to avoid crashing it.\n",
      "To change this limit, set the config variable\n",
      "`--NotebookApp.iopub_msg_rate_limit`.\n",
      "\n",
      "Current values:\n",
      "NotebookApp.iopub_msg_rate_limit=1000.0 (msgs/sec)\n",
      "NotebookApp.rate_limit_window=3.0 (secs)\n",
      "\n",
      "IOPub message rate exceeded.\n",
      "The notebook server will temporarily stop sending output\n",
      "to the client in order to avoid crashing it.\n",
      "To change this limit, set the config variable\n",
      "`--NotebookApp.iopub_msg_rate_limit`.\n",
      "\n",
      "Current values:\n",
      "NotebookApp.iopub_msg_rate_limit=1000.0 (msgs/sec)\n",
      "NotebookApp.rate_limit_window=3.0 (secs)\n",
      "\n"
     ]
    },
    {
     "name": "stdout",
     "output_type": "stream",
     "text": [
      "\n",
      "Loaded 959428294 lines, saw 153496862 nodes\n"
     ]
    }
   ],
   "source": [
    "g = nx.Graph()\n",
    "with gzip.open('/shared/1/projects/location-inference/working-dir/mention-network.2012-2019.tsv.gz', 'rt') as f:\n",
    "    for line_no, line in tqdm.tqdm_notebook(enumerate(f, 0), total=959428294):\n",
    "        if line_no == 0:\n",
    "            continue\n",
    "        cols = line.split('\\t')\n",
    "        uid1 = int(cols[0])\n",
    "        uid2 = int(cols[1])\n",
    "        g.add_edge(uid1, uid2)\n",
    "    \n",
    "        if line_no % 10000000 == 0:\n",
    "            #print('Loaded %d lines, saw %d nodes' % (line_no, g.number_of_nodes()))\n",
    "            pass\n",
    "print('Loaded %d lines, saw %d nodes' % (line_no, g.number_of_nodes()))"
   ]
  },
  {
   "cell_type": "code",
   "execution_count": 39,
   "metadata": {},
   "outputs": [
    {
     "data": {
      "text/plain": [
       "153496862"
      ]
     },
     "execution_count": 39,
     "metadata": {},
     "output_type": "execute_result"
    }
   ],
   "source": [
    "g.number_of_nodes()"
   ]
  },
  {
   "cell_type": "markdown",
   "metadata": {},
   "source": [
    "# Load in some tweets"
   ]
  },
  {
   "cell_type": "code",
   "execution_count": null,
   "metadata": {},
   "outputs": [],
   "source": [
    "tweets = [] # In twitter JSON format"
   ]
  },
  {
   "cell_type": "markdown",
   "metadata": {},
   "source": [
    "# Compute distance metrics"
   ]
  },
  {
   "cell_type": "code",
   "execution_count": 86,
   "metadata": {},
   "outputs": [
    {
     "data": {
      "application/vnd.jupyter.widget-view+json": {
       "model_id": "104f6de35638429989200d23e5bba64a",
       "version_major": 2,
       "version_minor": 0
      },
      "text/plain": [
       "HBox(children=(IntProgress(value=0, max=19924), HTML(value='')))"
      ]
     },
     "metadata": {},
     "output_type": "display_data"
    },
    {
     "name": "stdout",
     "output_type": "stream",
     "text": [
      "\n"
     ]
    }
   ],
   "source": [
    "new_columns = defaultdict(list)\n",
    "\n",
    "use_physical_location = False\n",
    "\n",
    "for i, row in tqdm.tqdm_notebook(tweets):\n",
    "    \n",
    "    from_uid = int(row['id_str'])\n",
    "    to_uid = int(row['in_reply_to_user_id_str'])\n",
    "    \n",
    "    # This is when people do threaded tweets\n",
    "    if from_uid == to_uid:\n",
    "        continue\n",
    "        \n",
    "    new_columns['tweet_id'].append(int(row['tweet_id']))\n",
    "\n",
    "    if use_physical_location:\n",
    "        try:\n",
    "            from_loc = user_to_loc_line[from_uid].strip().split('\\t')\n",
    "            to_loc = user_to_loc_line[to_uid].strip().split('\\t')\n",
    "\n",
    "            in_same_country = from_loc[5] == to_loc[5]\n",
    "            in_same_state = in_same_country and from_loc[4] == to_loc[4]\n",
    "            loc1 = (float(from_loc[1]), float(from_loc[2]))\n",
    "            loc2 = (float(to_loc[1]), float(to_loc[2]))\n",
    "            dist = distance(loc1, loc2).km\n",
    "            # print(loc1, loc2, dist)\n",
    "\n",
    "        except KeyError as e: # Not located\n",
    "            #print(repr(e))\n",
    "            dist = float('nan')\n",
    "            in_same_country = dist\n",
    "            in_same_state = dist\n",
    "\n",
    "        new_columns['distance'].append(dist)\n",
    "        new_columns['in_same_country'].append(in_same_country)\n",
    "        new_columns['in_same_state'].append(in_same_state)\n",
    "    \n",
    "    try:\n",
    "        from_neighbors = set(nx.all_neighbors(g, from_uid))\n",
    "        to_neighbors = set(nx.all_neighbors(g, to_uid))\n",
    "        \n",
    "        jaccard = len(from_neighbors & to_neighbors) / float(len(from_neighbors | to_neighbors))\n",
    "        try:\n",
    "            spl = nx.shortest_path_length(g, from_uid, to_uid)\n",
    "        except NetworkXNoPath as np:\n",
    "            spl = float('nan')\n",
    "        aai = next(nx.adamic_adar_index(g, [(from_uid, to_uid)]))[2]\n",
    "        # print(aai)\n",
    "    except NetworkXError as e: # Not mentioned\n",
    "        #print(repr(e))\n",
    "        jaccard = float('nan')\n",
    "        spl = jaccard\n",
    "        aai = jaccard\n",
    "        \n",
    "    new_columns['jaccard_index'].append(jaccard)\n",
    "    new_columns['shortest_path_length'].append(spl)\n",
    "    new_columns['adamic_adar_index'].append(aai)    \n",
    "    \n",
    "    #if i > 5:\n",
    "    #    break\n",
    "new_columns = pd.DataFrame(new_columns)"
   ]
  },
  {
   "cell_type": "code",
   "execution_count": null,
   "metadata": {},
   "outputs": [],
   "source": [
    "# drop anything we could't infer a position for\n",
    "new_columns = new_columns.dropna()"
   ]
  }
 ],
 "metadata": {
  "kernelspec": {
   "display_name": "Python 3",
   "language": "python",
   "name": "python3"
  },
  "language_info": {
   "codemirror_mode": {
    "name": "ipython",
    "version": 3
   },
   "file_extension": ".py",
   "mimetype": "text/x-python",
   "name": "python",
   "nbconvert_exporter": "python",
   "pygments_lexer": "ipython3",
   "version": "3.7.4"
  }
 },
 "nbformat": 4,
 "nbformat_minor": 2
}
