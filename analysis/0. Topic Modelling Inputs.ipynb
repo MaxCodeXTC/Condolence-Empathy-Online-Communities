{
 "cells": [
  {
   "cell_type": "markdown",
   "metadata": {},
   "source": [
    "## No dependencies"
   ]
  },
  {
   "cell_type": "code",
   "execution_count": 1,
   "metadata": {},
   "outputs": [],
   "source": [
    "COMMENTS_FILE = \"../working-dir/parsed/classified_comments/sample_total_comments_2018.tsv\""
   ]
  },
  {
   "cell_type": "code",
   "execution_count": null,
   "metadata": {},
   "outputs": [],
   "source": [
    "from util import read_labeled_output\n",
    "(year,\n",
    " c,\n",
    " cs,\n",
    " both) = read_labeled_output(COMMENTS_FILE)"
   ]
  },
  {
   "cell_type": "code",
   "execution_count": null,
   "metadata": {},
   "outputs": [],
   "source": [
    "img_re = re.compile(r\"!\\[(\\w+)\\]\\(\\S+\\)\")\n",
    "link_re = re.compile(r\"\\[(\\w+)\\]\\(\\S+\\)\")\n",
    "link_re_alt = re.compile(r\"\\[(\\w+)\\]\\[\\S+\\]\")\n",
    "auto_link = re.compile(r\"https?://\\S+\\b\")\n",
    "numbering = re.compile(r\"\\d(\\)|\\.)\")\n",
    "\n",
    "punct = str.maketrans('', '', r\"_*~<>^!`#-|\\:=\")\n",
    "all_punct_tr = str.maketrans('', '', string.punctuation)\n",
    "def clean_markdown(body, all_punct=False):\n",
    "    body = re.sub(r\"\\\\n\", \" \", body)\n",
    "    body = re.sub(img_re, \"\", body)\n",
    "    body = re.sub(link_re, r\"\\1\", body)\n",
    "    body = re.sub(link_re_alt, r\"\\1\", body)\n",
    "    body = re.sub(auto_link, \"\", body)\n",
    "    body = re.sub(numbering, \"\", body)\n",
    "    if all_punct:\n",
    "        body = body.translate(all_punct_tr)\n",
    "    else:\n",
    "        body = body.translate(punct)\n",
    "    split = re.findall(r\"[\\w']+|[.,!?;']\", body)\n",
    "    return \" \".join(split)"
   ]
  },
  {
   "cell_type": "code",
   "execution_count": null,
   "metadata": {},
   "outputs": [],
   "source": [
    "cs.loc[:, \"cleaned\"] = cs.body.progress_apply(clean_markdown)\n",
    "c.loc[:, \"cleaned\"] = c.body.progress_apply(clean_markdown)\n",
    "cs[[\"subreddit\", \"cleaned\"]].reset_index().to_csv(\"./mallet/grief_input.txt\", header=None, index=None, sep=\"\\t\")\n",
    "c[[\"subreddit\", \"cleaned\"]].reset_index().to_csv(\"./mallet/condolences_input.txt\", header=None, index=None, sep=\"\\t\")"
   ]
  }
 ],
 "metadata": {
  "kernelspec": {
   "display_name": "Python 3",
   "language": "python",
   "name": "python3"
  },
  "language_info": {
   "codemirror_mode": {
    "name": "ipython",
    "version": 3
   },
   "file_extension": ".py",
   "mimetype": "text/x-python",
   "name": "python",
   "nbconvert_exporter": "python",
   "pygments_lexer": "ipython3",
   "version": "3.7.4"
  }
 },
 "nbformat": 4,
 "nbformat_minor": 2
}
