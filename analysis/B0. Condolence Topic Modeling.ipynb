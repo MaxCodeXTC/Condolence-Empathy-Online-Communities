{
 "cells": [
  {
   "cell_type": "markdown",
   "metadata": {},
   "source": [
    "## Dependencies\n",
    "\n",
    "Topic modeling inputs"
   ]
  },
  {
   "cell_type": "code",
   "execution_count": null,
   "metadata": {},
   "outputs": [],
   "source": [
    "!../working-dir/mallet/mallet-2.0.8/bin/mallet import-file --input ../working-dir/mallet/condolences_input.txt \\\n",
    "                                                           --output ../working-dir/mallet/condolences.mallet \\\n",
    "                                                           --keep-sequence --stoplist-file ../working-dir/mallet/stopwords.txt\n",
    "!../working-dir/mallet/mallet-2.0.8/bin/mallet train-topics --input ../working-dir/mallet/condolences.mallet \\\n",
    "                                                            --output-state ../working-dir/mallet/condolences_state.gz \\\n",
    "                                                            --output-topic-keys ../working-dir/mallet/condolences_keys.txt \\\n",
    "                                                            --output-doc-topics ../working-dir/mallet/condolences_topics.txt \\\n",
    "                                                            --num-topics 20 \\\n",
    "                                                            --num-top-words 20 --optimize-interval 10 --num-threads 60"
   ]
  }
 ],
 "metadata": {
  "kernelspec": {
   "display_name": "Python 3",
   "language": "python",
   "name": "python3"
  },
  "language_info": {
   "codemirror_mode": {
    "name": "ipython",
    "version": 3
   },
   "file_extension": ".py",
   "mimetype": "text/x-python",
   "name": "python",
   "nbconvert_exporter": "python",
   "pygments_lexer": "ipython3",
   "version": "3.7.4"
  }
 },
 "nbformat": 4,
 "nbformat_minor": 2
}
