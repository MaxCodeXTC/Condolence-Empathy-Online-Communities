{
 "cells": [
  {
   "cell_type": "code",
   "execution_count": 18,
   "metadata": {},
   "outputs": [],
   "source": [
    "import math\n",
    "\n",
    "import numpy as np\n",
    "import pandas as pd\n",
    "import random\n",
    "\n",
    "random.seed(1234)\n",
    "np.random.seed(1234)\n",
    "\n",
    "import json\n",
    "import glob\n",
    "import itertools\n",
    "from os.path import basename\n",
    "from collections import *\n",
    "from tqdm.notebook import tqdm\n",
    "import random\n",
    "from collections import Counter\n",
    "\n",
    "from  sklearn.ensemble import RandomForestClassifier, RandomForestRegressor\n",
    "import pandas as pd\n",
    "import logging\n",
    "\n",
    "from sklearn.feature_extraction.text import TfidfVectorizer\n",
    "import scipy\n",
    "import sklearn\n",
    "\n",
    "from sklearn.metrics import r2_score, mean_squared_error\n",
    "\n",
    "from sklearn.model_selection import StratifiedKFold\n",
    "from sklearn.dummy import DummyRegressor\n"
   ]
  },
  {
   "cell_type": "code",
   "execution_count": 20,
   "metadata": {},
   "outputs": [
    {
     "data": {
      "text/plain": [
       "'0.21.3'"
      ]
     },
     "execution_count": 20,
     "metadata": {},
     "output_type": "execute_result"
    }
   ],
   "source": [
    "sklearn.__version__"
   ]
  },
  {
   "cell_type": "code",
   "execution_count": 2,
   "metadata": {},
   "outputs": [],
   "source": [
    "df = pd.read_csv('/shared/0/projects/condolence/working-dir/condolence_annotator/output.csv')"
   ]
  },
  {
   "cell_type": "code",
   "execution_count": 3,
   "metadata": {},
   "outputs": [
    {
     "data": {
      "text/html": [
       "<div>\n",
       "<style scoped>\n",
       "    .dataframe tbody tr th:only-of-type {\n",
       "        vertical-align: middle;\n",
       "    }\n",
       "\n",
       "    .dataframe tbody tr th {\n",
       "        vertical-align: top;\n",
       "    }\n",
       "\n",
       "    .dataframe thead th {\n",
       "        text-align: right;\n",
       "    }\n",
       "</style>\n",
       "<table border=\"1\" class=\"dataframe\">\n",
       "  <thead>\n",
       "    <tr style=\"text-align: right;\">\n",
       "      <th></th>\n",
       "      <th>Unnamed: 0</th>\n",
       "      <th>rating</th>\n",
       "      <th>target</th>\n",
       "      <th>observer</th>\n",
       "      <th>rounded</th>\n",
       "      <th>user1</th>\n",
       "      <th>user2</th>\n",
       "    </tr>\n",
       "  </thead>\n",
       "  <tbody>\n",
       "    <tr>\n",
       "      <th>0</th>\n",
       "      <td>0</td>\n",
       "      <td>1.5</td>\n",
       "      <td>Thank you. I needed to hear this. The other pr...</td>\n",
       "      <td>This sounds like the bigger issue, to an outsi...</td>\n",
       "      <td>2</td>\n",
       "      <td>1.0</td>\n",
       "      <td>2.0</td>\n",
       "    </tr>\n",
       "    <tr>\n",
       "      <th>1</th>\n",
       "      <td>1</td>\n",
       "      <td>2.0</td>\n",
       "      <td>well, I don't sleep at all anyway, so that's n...</td>\n",
       "      <td>I know a few words can't undo years of mental ...</td>\n",
       "      <td>2</td>\n",
       "      <td>3.0</td>\n",
       "      <td>1.0</td>\n",
       "    </tr>\n",
       "    <tr>\n",
       "      <th>2</th>\n",
       "      <td>2</td>\n",
       "      <td>1.0</td>\n",
       "      <td>Thank you.  Yes, agreed on the timing, the las...</td>\n",
       "      <td>I'm so sorry, that is all really tough. We're ...</td>\n",
       "      <td>1</td>\n",
       "      <td>1.0</td>\n",
       "      <td>1.0</td>\n",
       "    </tr>\n",
       "    <tr>\n",
       "      <th>3</th>\n",
       "      <td>3</td>\n",
       "      <td>1.0</td>\n",
       "      <td>There have definitely been signs that things w...</td>\n",
       "      <td>Yea. I couldn't even imagine. I have unstable ...</td>\n",
       "      <td>1</td>\n",
       "      <td>1.0</td>\n",
       "      <td>1.0</td>\n",
       "    </tr>\n",
       "    <tr>\n",
       "      <th>4</th>\n",
       "      <td>4</td>\n",
       "      <td>1.0</td>\n",
       "      <td>I don’t know whether anybody here will remembe...</td>\n",
       "      <td>I am sorry this is happening, that so sad and ...</td>\n",
       "      <td>1</td>\n",
       "      <td>1.0</td>\n",
       "      <td>1.0</td>\n",
       "    </tr>\n",
       "  </tbody>\n",
       "</table>\n",
       "</div>"
      ],
      "text/plain": [
       "   Unnamed: 0  rating                                             target  \\\n",
       "0           0     1.5  Thank you. I needed to hear this. The other pr...   \n",
       "1           1     2.0  well, I don't sleep at all anyway, so that's n...   \n",
       "2           2     1.0  Thank you.  Yes, agreed on the timing, the las...   \n",
       "3           3     1.0  There have definitely been signs that things w...   \n",
       "4           4     1.0  I don’t know whether anybody here will remembe...   \n",
       "\n",
       "                                            observer  rounded  user1  user2  \n",
       "0  This sounds like the bigger issue, to an outsi...        2    1.0    2.0  \n",
       "1  I know a few words can't undo years of mental ...        2    3.0    1.0  \n",
       "2  I'm so sorry, that is all really tough. We're ...        1    1.0    1.0  \n",
       "3  Yea. I couldn't even imagine. I have unstable ...        1    1.0    1.0  \n",
       "4  I am sorry this is happening, that so sad and ...        1    1.0    1.0  "
      ]
     },
     "execution_count": 3,
     "metadata": {},
     "output_type": "execute_result"
    }
   ],
   "source": [
    "df.head()"
   ]
  },
  {
   "cell_type": "code",
   "execution_count": null,
   "metadata": {},
   "outputs": [],
   "source": []
  },
  {
   "cell_type": "code",
   "execution_count": 4,
   "metadata": {},
   "outputs": [
    {
     "name": "stdout",
     "output_type": "stream",
     "text": [
      "1004 798 103 103\n"
     ]
    }
   ],
   "source": [
    "if True: \n",
    "    \n",
    "    rounded_to_rows = defaultdict(list)\n",
    "    for i, row in df.iterrows():\n",
    "        rounded_to_rows[row['rounded']].append([row['target'], row['observer'], row['rating']])    \n",
    "    \n",
    "    train_df = defaultdict(list)\n",
    "    eval_df = defaultdict(list)\n",
    "    test_df = defaultdict(list)\n",
    "    for val, rows in rounded_to_rows.items():\n",
    "        random.shuffle(rows)\n",
    "        for i, row in enumerate(rows):\n",
    "            if i % 10 == 0:\n",
    "                cur_df = test_df\n",
    "            elif i % 10 == 1:\n",
    "                cur_df = eval_df\n",
    "            else:\n",
    "                cur_df = train_df\n",
    "            cur_df['text_a'].append(row[0]) # target\n",
    "            cur_df['text_b'].append(row[1]) # observer\n",
    "            cur_df['labels'].append(row[2]) # rating\n",
    "            cur_df['target'].append(row[0]) # target\n",
    "            cur_df['observer'].append(row[1]) # observer\n",
    "            cur_df['rating'].append(row[2]) # rating\n",
    "            \n",
    "    train_df = pd.DataFrame(train_df)\n",
    "    eval_df = pd.DataFrame(eval_df)\n",
    "    test_df = pd.DataFrame(test_df)\n",
    "            \n",
    "    print(len(df), len(train_df), len(eval_df), len(test_df))\n",
    "        \n",
    "else:\n",
    "    df['text_a'] = df['target']\n",
    "    df['text_b'] = df['observer']\n",
    "    df['labels'] = df['rating']\n",
    "    train_df, eval_df, test_df = np.split(df.sample(frac=1), [int(.8*len(df)), int(.9*len(df))])"
   ]
  },
  {
   "cell_type": "code",
   "execution_count": 5,
   "metadata": {},
   "outputs": [
    {
     "data": {
      "text/html": [
       "<div>\n",
       "<style scoped>\n",
       "    .dataframe tbody tr th:only-of-type {\n",
       "        vertical-align: middle;\n",
       "    }\n",
       "\n",
       "    .dataframe tbody tr th {\n",
       "        vertical-align: top;\n",
       "    }\n",
       "\n",
       "    .dataframe thead th {\n",
       "        text-align: right;\n",
       "    }\n",
       "</style>\n",
       "<table border=\"1\" class=\"dataframe\">\n",
       "  <thead>\n",
       "    <tr style=\"text-align: right;\">\n",
       "      <th></th>\n",
       "      <th>text_a</th>\n",
       "      <th>text_b</th>\n",
       "      <th>labels</th>\n",
       "      <th>target</th>\n",
       "      <th>observer</th>\n",
       "      <th>rating</th>\n",
       "    </tr>\n",
       "  </thead>\n",
       "  <tbody>\n",
       "    <tr>\n",
       "      <th>0</th>\n",
       "      <td>My wife miscarried around the same time as Sav...</td>\n",
       "      <td>I'm glad to hear everything went okay for your...</td>\n",
       "      <td>2.0</td>\n",
       "      <td>My wife miscarried around the same time as Sav...</td>\n",
       "      <td>I'm glad to hear everything went okay for your...</td>\n",
       "      <td>2.0</td>\n",
       "    </tr>\n",
       "    <tr>\n",
       "      <th>1</th>\n",
       "      <td>I don’t think he ever loved me the same way I ...</td>\n",
       "      <td>I fell madly in love with my first boyfriend a...</td>\n",
       "      <td>1.5</td>\n",
       "      <td>I don’t think he ever loved me the same way I ...</td>\n",
       "      <td>I fell madly in love with my first boyfriend a...</td>\n",
       "      <td>1.5</td>\n",
       "    </tr>\n",
       "    <tr>\n",
       "      <th>2</th>\n",
       "      <td>So my 2-year wedding anniversary (and 13-year ...</td>\n",
       "      <td>Sorry to hear that, I've been there a few time...</td>\n",
       "      <td>2.0</td>\n",
       "      <td>So my 2-year wedding anniversary (and 13-year ...</td>\n",
       "      <td>Sorry to hear that, I've been there a few time...</td>\n",
       "      <td>2.0</td>\n",
       "    </tr>\n",
       "    <tr>\n",
       "      <th>3</th>\n",
       "      <td>Exactly this. I'm currently 17, nearly 18, and...</td>\n",
       "      <td>Yes, uni is hard. You have a lot on your plate...</td>\n",
       "      <td>2.0</td>\n",
       "      <td>Exactly this. I'm currently 17, nearly 18, and...</td>\n",
       "      <td>Yes, uni is hard. You have a lot on your plate...</td>\n",
       "      <td>2.0</td>\n",
       "    </tr>\n",
       "    <tr>\n",
       "      <th>4</th>\n",
       "      <td>Man, I need to vent like every day. I wanna sa...</td>\n",
       "      <td>Of course. Losing someone so close to you, who...</td>\n",
       "      <td>2.0</td>\n",
       "      <td>Man, I need to vent like every day. I wanna sa...</td>\n",
       "      <td>Of course. Losing someone so close to you, who...</td>\n",
       "      <td>2.0</td>\n",
       "    </tr>\n",
       "  </tbody>\n",
       "</table>\n",
       "</div>"
      ],
      "text/plain": [
       "                                              text_a  \\\n",
       "0  My wife miscarried around the same time as Sav...   \n",
       "1  I don’t think he ever loved me the same way I ...   \n",
       "2  So my 2-year wedding anniversary (and 13-year ...   \n",
       "3  Exactly this. I'm currently 17, nearly 18, and...   \n",
       "4  Man, I need to vent like every day. I wanna sa...   \n",
       "\n",
       "                                              text_b  labels  \\\n",
       "0  I'm glad to hear everything went okay for your...     2.0   \n",
       "1  I fell madly in love with my first boyfriend a...     1.5   \n",
       "2  Sorry to hear that, I've been there a few time...     2.0   \n",
       "3  Yes, uni is hard. You have a lot on your plate...     2.0   \n",
       "4  Of course. Losing someone so close to you, who...     2.0   \n",
       "\n",
       "                                              target  \\\n",
       "0  My wife miscarried around the same time as Sav...   \n",
       "1  I don’t think he ever loved me the same way I ...   \n",
       "2  So my 2-year wedding anniversary (and 13-year ...   \n",
       "3  Exactly this. I'm currently 17, nearly 18, and...   \n",
       "4  Man, I need to vent like every day. I wanna sa...   \n",
       "\n",
       "                                            observer  rating  \n",
       "0  I'm glad to hear everything went okay for your...     2.0  \n",
       "1  I fell madly in love with my first boyfriend a...     1.5  \n",
       "2  Sorry to hear that, I've been there a few time...     2.0  \n",
       "3  Yes, uni is hard. You have a lot on your plate...     2.0  \n",
       "4  Of course. Losing someone so close to you, who...     2.0  "
      ]
     },
     "execution_count": 5,
     "metadata": {},
     "output_type": "execute_result"
    }
   ],
   "source": [
    "train_df.head()"
   ]
  },
  {
   "cell_type": "code",
   "execution_count": 6,
   "metadata": {},
   "outputs": [],
   "source": [
    "count_vect = TfidfVectorizer(ngram_range=(1,2,3))\n",
    "\n",
    "training_docs_combined = list(train_df.target) + list(train_df.observer)\n",
    "X_train_counts = count_vect.fit_transform(training_docs_combined)\n",
    "#print(X_train_counts.shape)\n",
    "#X_train_counts[0:int(len(training_docs_combined) / 2)].shape\n",
    "X_train  = scipy.sparse.hstack((X_train_counts[0:int(len(training_docs_combined) / 2)], \n",
    "                      X_train_counts[int(len (training_docs_combined) / 2):]))"
   ]
  },
  {
   "cell_type": "code",
   "execution_count": 7,
   "metadata": {},
   "outputs": [
    {
     "data": {
      "text/plain": [
       "RandomForestRegressor(bootstrap=True, criterion='mse', max_depth=None,\n",
       "                      max_features='auto', max_leaf_nodes=None,\n",
       "                      min_impurity_decrease=0.0, min_impurity_split=None,\n",
       "                      min_samples_leaf=1, min_samples_split=2,\n",
       "                      min_weight_fraction_leaf=0.0, n_estimators=100,\n",
       "                      n_jobs=None, oob_score=False, random_state=None,\n",
       "                      verbose=0, warm_start=False)"
      ]
     },
     "execution_count": 7,
     "metadata": {},
     "output_type": "execute_result"
    }
   ],
   "source": [
    "#print(X_train.shape)\n",
    "clf = RandomForestRegressor(n_estimators=100)\n",
    "clf.fit(X_train, list(train_df.rating))"
   ]
  },
  {
   "cell_type": "code",
   "execution_count": 8,
   "metadata": {},
   "outputs": [],
   "source": [
    "eval_docs_combined = list(eval_df.target) + list(eval_df.observer)\n",
    "X_eval_counts = count_vect.transform(eval_docs_combined)\n",
    "X_eval  = scipy.sparse.hstack((X_eval_counts[0:int(len(eval_docs_combined) / 2)], \n",
    "                      X_eval_counts[int(len (eval_docs_combined) / 2):]))\n",
    "dev_preds = clf.predict(X_eval)"
   ]
  },
  {
   "cell_type": "code",
   "execution_count": 9,
   "metadata": {},
   "outputs": [
    {
     "name": "stdout",
     "output_type": "stream",
     "text": [
      "0.12408987215033906\n",
      "0.5359985436893204\n"
     ]
    }
   ],
   "source": [
    "dev_labels = list(eval_df.rating)\n",
    "print(r2_score(dev_labels, dev_preds))\n",
    "print(mean_squared_error(dev_labels, dev_preds))"
   ]
  },
  {
   "cell_type": "code",
   "execution_count": 10,
   "metadata": {},
   "outputs": [],
   "source": [
    "test_docs_combined = list(test_df.target) + list(test_df.observer)\n",
    "X_test_counts = count_vect.transform(test_docs_combined)\n",
    "X_eval  = scipy.sparse.hstack((X_test_counts[0:int(len(test_docs_combined) / 2)], \n",
    "                      X_test_counts[int(len (test_docs_combined) / 2):]))\n",
    "test_preds = clf.predict(X_eval)"
   ]
  },
  {
   "cell_type": "code",
   "execution_count": 11,
   "metadata": {},
   "outputs": [
    {
     "name": "stdout",
     "output_type": "stream",
     "text": [
      "0.12843246932131236\n",
      "0.49205898058252423\n"
     ]
    }
   ],
   "source": [
    "test_labels = list(test_df.rating)\n",
    "print(r2_score(test_labels, test_preds))\n",
    "print(mean_squared_error(test_labels, test_preds))"
   ]
  },
  {
   "cell_type": "markdown",
   "metadata": {},
   "source": [
    "# Reply-only model"
   ]
  },
  {
   "cell_type": "code",
   "execution_count": 13,
   "metadata": {},
   "outputs": [],
   "source": [
    "count_vect = TfidfVectorizer(ngram_range=(1,2))\n",
    "X_train = count_vect.fit_transform(train_df.observer)"
   ]
  },
  {
   "cell_type": "code",
   "execution_count": 14,
   "metadata": {},
   "outputs": [
    {
     "data": {
      "text/plain": [
       "RandomForestRegressor(bootstrap=True, criterion='mse', max_depth=None,\n",
       "                      max_features='auto', max_leaf_nodes=None,\n",
       "                      min_impurity_decrease=0.0, min_impurity_split=None,\n",
       "                      min_samples_leaf=1, min_samples_split=2,\n",
       "                      min_weight_fraction_leaf=0.0, n_estimators=100,\n",
       "                      n_jobs=None, oob_score=False, random_state=None,\n",
       "                      verbose=0, warm_start=False)"
      ]
     },
     "execution_count": 14,
     "metadata": {},
     "output_type": "execute_result"
    }
   ],
   "source": [
    "clf = RandomForestRegressor(n_estimators=100)\n",
    "clf.fit(X_train, list(train_df.rating))"
   ]
  },
  {
   "cell_type": "code",
   "execution_count": 15,
   "metadata": {},
   "outputs": [
    {
     "name": "stdout",
     "output_type": "stream",
     "text": [
      "0.15906774876771423\n",
      "0.5145944174757282\n"
     ]
    }
   ],
   "source": [
    "X_eval = count_vect.transform(eval_df.observer)\n",
    "dev_preds = clf.predict(X_eval)\n",
    "dev_labels = list(eval_df.rating)\n",
    "print(r2_score(dev_labels, dev_preds))\n",
    "print(mean_squared_error(dev_labels, dev_preds))"
   ]
  },
  {
   "cell_type": "code",
   "execution_count": 16,
   "metadata": {},
   "outputs": [
    {
     "name": "stdout",
     "output_type": "stream",
     "text": [
      "0.04419109673444255\n",
      "0.5166873786407767\n"
     ]
    }
   ],
   "source": [
    "X_test = count_vect.transform(test_df.observer)\n",
    "test_preds = clf.predict(X_test)\n",
    "test_labels = list(test_df.rating)\n",
    "print(r2_score(dev_labels, test_preds))\n",
    "print(mean_squared_error(test_labels, test_preds))"
   ]
  },
  {
   "cell_type": "markdown",
   "metadata": {},
   "source": [
    "# Dummy Regressors"
   ]
  },
  {
   "cell_type": "code",
   "execution_count": 19,
   "metadata": {},
   "outputs": [
    {
     "name": "stdout",
     "output_type": "stream",
     "text": [
      "-0.007755898844194142\n",
      "0.5654712393254102\n"
     ]
    }
   ],
   "source": [
    "clf = DummyRegressor(strategy='mean')\n",
    "clf.fit(X_train, list(train_df.rating))\n",
    "test_preds = clf.predict(X_test)\n",
    "test_labels = list(test_df.rating)\n",
    "print(r2_score(dev_labels, test_preds))\n",
    "print(mean_squared_error(test_labels, test_preds))"
   ]
  }
 ],
 "metadata": {
  "kernelspec": {
   "display_name": "Python 3",
   "language": "python",
   "name": "python3"
  },
  "language_info": {
   "codemirror_mode": {
    "name": "ipython",
    "version": 3
   },
   "file_extension": ".py",
   "mimetype": "text/x-python",
   "name": "python",
   "nbconvert_exporter": "python",
   "pygments_lexer": "ipython3",
   "version": "3.6.8"
  }
 },
 "nbformat": 4,
 "nbformat_minor": 2
}
