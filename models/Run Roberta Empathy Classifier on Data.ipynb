{
 "cells": [
  {
   "cell_type": "code",
   "execution_count": 1,
   "metadata": {},
   "outputs": [
    {
     "name": "stderr",
     "output_type": "stream",
     "text": [
      "wandb: WARNING W&B installed but not logged in.  Run `wandb login` or set the WANDB_API_KEY env variable.\n"
     ]
    }
   ],
   "source": [
    "%matplotlib inline\n",
    "\n",
    "import torch\n",
    "import torch.nn as nn\n",
    "import torch.nn.functional as F\n",
    "import torch.optim as optim\n",
    "import math\n",
    "import random\n",
    "import numpy as np\n",
    "import pandas as pd\n",
    "\n",
    "random.seed(42)\n",
    "torch.manual_seed(42)\n",
    "np.random.seed(42)\n",
    "\n",
    "from torch.utils.data import Dataset, DataLoader\n",
    "\n",
    "import json\n",
    "import glob\n",
    "import itertools\n",
    "from os.path import basename\n",
    "from collections import *\n",
    "from tqdm.notebook import tqdm\n",
    "import networkx as nx\n",
    "import random\n",
    "import pickle\n",
    "import tensorflow as tf\n",
    "from collections import Counter\n",
    "from tensorboardX import SummaryWriter\n",
    "\n",
    "from simpletransformers.classification import ClassificationModel\n",
    "import pandas as pd\n",
    "import logging\n",
    "\n",
    "import sklearn\n",
    "\n",
    "from sklearn.metrics import f1_score\n",
    "\n",
    "from sklearn.model_selection import train_test_split\n",
    "\n",
    "from ast import literal_eval"
   ]
  },
  {
   "cell_type": "code",
   "execution_count": 39,
   "metadata": {},
   "outputs": [],
   "source": [
    "df = pd.read_csv('../../data/regression/good_condolence.csv')"
   ]
  },
  {
   "cell_type": "code",
   "execution_count": 14,
   "metadata": {},
   "outputs": [
    {
     "data": {
      "text/html": [
       "<div>\n",
       "<style scoped>\n",
       "    .dataframe tbody tr th:only-of-type {\n",
       "        vertical-align: middle;\n",
       "    }\n",
       "\n",
       "    .dataframe tbody tr th {\n",
       "        vertical-align: top;\n",
       "    }\n",
       "\n",
       "    .dataframe thead th {\n",
       "        text-align: right;\n",
       "    }\n",
       "</style>\n",
       "<table border=\"1\" class=\"dataframe\">\n",
       "  <thead>\n",
       "    <tr style=\"text-align: right;\">\n",
       "      <th></th>\n",
       "      <th>id</th>\n",
       "      <th>subreddit</th>\n",
       "      <th>link_id</th>\n",
       "      <th>body</th>\n",
       "      <th>score</th>\n",
       "      <th>created_utc</th>\n",
       "      <th>author</th>\n",
       "      <th>length</th>\n",
       "      <th>filtered_link_id</th>\n",
       "      <th>hour</th>\n",
       "      <th>...</th>\n",
       "      <th>t_advice</th>\n",
       "      <th>t_school</th>\n",
       "      <th>t_advice2</th>\n",
       "      <th>ling_align</th>\n",
       "      <th>liwc_first_person</th>\n",
       "      <th>liwc_second_person</th>\n",
       "      <th>liwc_third_person</th>\n",
       "      <th>good_condolence</th>\n",
       "      <th>empathy_score</th>\n",
       "      <th>buechel_pred</th>\n",
       "    </tr>\n",
       "  </thead>\n",
       "  <tbody>\n",
       "    <tr>\n",
       "      <th>0</th>\n",
       "      <td>ds0ntyd</td>\n",
       "      <td>hockey</td>\n",
       "      <td>t3_7nb6hd</td>\n",
       "      <td>Hey man it happens to everyone. It’s tough whe...</td>\n",
       "      <td>3</td>\n",
       "      <td>2017-12-31 19:15:24-05:00</td>\n",
       "      <td>ThatLineOfTriplets</td>\n",
       "      <td>71</td>\n",
       "      <td>dummy</td>\n",
       "      <td>19</td>\n",
       "      <td>...</td>\n",
       "      <td>0.001196</td>\n",
       "      <td>0.003966</td>\n",
       "      <td>0.004395</td>\n",
       "      <td>0.107692</td>\n",
       "      <td>3</td>\n",
       "      <td>3</td>\n",
       "      <td>0</td>\n",
       "      <td>False</td>\n",
       "      <td>1.318736</td>\n",
       "      <td>3.056297</td>\n",
       "    </tr>\n",
       "    <tr>\n",
       "      <th>1</th>\n",
       "      <td>ds0nwsq</td>\n",
       "      <td>depression</td>\n",
       "      <td>t3_7nbpv9</td>\n",
       "      <td>I know exactly what you mean. It’s the same wi...</td>\n",
       "      <td>1</td>\n",
       "      <td>2017-12-31 19:17:00-05:00</td>\n",
       "      <td>Flowerfore</td>\n",
       "      <td>88</td>\n",
       "      <td>dummy</td>\n",
       "      <td>19</td>\n",
       "      <td>...</td>\n",
       "      <td>0.001248</td>\n",
       "      <td>0.004137</td>\n",
       "      <td>0.004585</td>\n",
       "      <td>0.357143</td>\n",
       "      <td>6</td>\n",
       "      <td>7</td>\n",
       "      <td>0</td>\n",
       "      <td>False</td>\n",
       "      <td>1.466414</td>\n",
       "      <td>3.058555</td>\n",
       "    </tr>\n",
       "    <tr>\n",
       "      <th>2</th>\n",
       "      <td>ds0oecs</td>\n",
       "      <td>TryingForABaby</td>\n",
       "      <td>t3_7nbxzf</td>\n",
       "      <td>I'm so sorry about your father.</td>\n",
       "      <td>4</td>\n",
       "      <td>2017-12-31 19:26:54-05:00</td>\n",
       "      <td>wedditer</td>\n",
       "      <td>6</td>\n",
       "      <td>dummy</td>\n",
       "      <td>19</td>\n",
       "      <td>...</td>\n",
       "      <td>0.009362</td>\n",
       "      <td>0.356140</td>\n",
       "      <td>0.359499</td>\n",
       "      <td>0.375000</td>\n",
       "      <td>1</td>\n",
       "      <td>1</td>\n",
       "      <td>0</td>\n",
       "      <td>True</td>\n",
       "      <td>1.171976</td>\n",
       "      <td>2.429086</td>\n",
       "    </tr>\n",
       "    <tr>\n",
       "      <th>3</th>\n",
       "      <td>ds0oizd</td>\n",
       "      <td>TryingForABaby</td>\n",
       "      <td>t3_7nbxzf</td>\n",
       "      <td>I’m really sorry about your dad. I had a shitt...</td>\n",
       "      <td>9</td>\n",
       "      <td>2017-12-31 19:29:27-05:00</td>\n",
       "      <td>Nouveau_Depart</td>\n",
       "      <td>76</td>\n",
       "      <td>dummy</td>\n",
       "      <td>19</td>\n",
       "      <td>...</td>\n",
       "      <td>0.000898</td>\n",
       "      <td>0.002977</td>\n",
       "      <td>0.065651</td>\n",
       "      <td>0.253968</td>\n",
       "      <td>6</td>\n",
       "      <td>2</td>\n",
       "      <td>0</td>\n",
       "      <td>False</td>\n",
       "      <td>1.462780</td>\n",
       "      <td>2.945638</td>\n",
       "    </tr>\n",
       "    <tr>\n",
       "      <th>4</th>\n",
       "      <td>ds0okxk</td>\n",
       "      <td>raisedbynarcissists</td>\n",
       "      <td>t3_7nb7hl</td>\n",
       "      <td>I'm so sorry for you I wish I could help you i...</td>\n",
       "      <td>2</td>\n",
       "      <td>2017-12-31 19:30:32-05:00</td>\n",
       "      <td>jaact</td>\n",
       "      <td>15</td>\n",
       "      <td>dummy</td>\n",
       "      <td>19</td>\n",
       "      <td>...</td>\n",
       "      <td>0.009362</td>\n",
       "      <td>0.031039</td>\n",
       "      <td>0.359499</td>\n",
       "      <td>0.333333</td>\n",
       "      <td>3</td>\n",
       "      <td>2</td>\n",
       "      <td>0</td>\n",
       "      <td>False</td>\n",
       "      <td>1.239284</td>\n",
       "      <td>2.447037</td>\n",
       "    </tr>\n",
       "  </tbody>\n",
       "</table>\n",
       "<p>5 rows × 50 columns</p>\n",
       "</div>"
      ],
      "text/plain": [
       "        id            subreddit    link_id  \\\n",
       "0  ds0ntyd               hockey  t3_7nb6hd   \n",
       "1  ds0nwsq           depression  t3_7nbpv9   \n",
       "2  ds0oecs       TryingForABaby  t3_7nbxzf   \n",
       "3  ds0oizd       TryingForABaby  t3_7nbxzf   \n",
       "4  ds0okxk  raisedbynarcissists  t3_7nb7hl   \n",
       "\n",
       "                                                body  score  \\\n",
       "0  Hey man it happens to everyone. It’s tough whe...      3   \n",
       "1  I know exactly what you mean. It’s the same wi...      1   \n",
       "2                    I'm so sorry about your father.      4   \n",
       "3  I’m really sorry about your dad. I had a shitt...      9   \n",
       "4  I'm so sorry for you I wish I could help you i...      2   \n",
       "\n",
       "                 created_utc              author  length filtered_link_id  \\\n",
       "0  2017-12-31 19:15:24-05:00  ThatLineOfTriplets      71            dummy   \n",
       "1  2017-12-31 19:17:00-05:00          Flowerfore      88            dummy   \n",
       "2  2017-12-31 19:26:54-05:00            wedditer       6            dummy   \n",
       "3  2017-12-31 19:29:27-05:00      Nouveau_Depart      76            dummy   \n",
       "4  2017-12-31 19:30:32-05:00               jaact      15            dummy   \n",
       "\n",
       "   hour  ...  t_advice  t_school  t_advice2  ling_align liwc_first_person  \\\n",
       "0    19  ...  0.001196  0.003966   0.004395    0.107692                 3   \n",
       "1    19  ...  0.001248  0.004137   0.004585    0.357143                 6   \n",
       "2    19  ...  0.009362  0.356140   0.359499    0.375000                 1   \n",
       "3    19  ...  0.000898  0.002977   0.065651    0.253968                 6   \n",
       "4    19  ...  0.009362  0.031039   0.359499    0.333333                 3   \n",
       "\n",
       "  liwc_second_person liwc_third_person good_condolence empathy_score  \\\n",
       "0                  3                 0           False      1.318736   \n",
       "1                  7                 0           False      1.466414   \n",
       "2                  1                 0            True      1.171976   \n",
       "3                  2                 0           False      1.462780   \n",
       "4                  2                 0           False      1.239284   \n",
       "\n",
       "   buechel_pred  \n",
       "0      3.056297  \n",
       "1      3.058555  \n",
       "2      2.429086  \n",
       "3      2.945638  \n",
       "4      2.447037  \n",
       "\n",
       "[5 rows x 50 columns]"
      ]
     },
     "execution_count": 14,
     "metadata": {},
     "output_type": "execute_result"
    }
   ],
   "source": [
    "df.head()"
   ]
  },
  {
   "cell_type": "code",
   "execution_count": 78,
   "metadata": {},
   "outputs": [],
   "source": [
    "df2 = pd.read_csv('../../data/empathy_regression_inputs.csv')"
   ]
  },
  {
   "cell_type": "code",
   "execution_count": 79,
   "metadata": {},
   "outputs": [
    {
     "data": {
      "text/html": [
       "<div>\n",
       "<style scoped>\n",
       "    .dataframe tbody tr th:only-of-type {\n",
       "        vertical-align: middle;\n",
       "    }\n",
       "\n",
       "    .dataframe tbody tr th {\n",
       "        vertical-align: top;\n",
       "    }\n",
       "\n",
       "    .dataframe thead th {\n",
       "        text-align: right;\n",
       "    }\n",
       "</style>\n",
       "<table border=\"1\" class=\"dataframe\">\n",
       "  <thead>\n",
       "    <tr style=\"text-align: right;\">\n",
       "      <th></th>\n",
       "      <th>id</th>\n",
       "      <th>subreddit</th>\n",
       "      <th>link_id</th>\n",
       "      <th>observer</th>\n",
       "      <th>target</th>\n",
       "      <th>good_condolence</th>\n",
       "    </tr>\n",
       "  </thead>\n",
       "  <tbody>\n",
       "    <tr>\n",
       "      <th>0</th>\n",
       "      <td>e5t56vg</td>\n",
       "      <td>bayarea</td>\n",
       "      <td>t3_9ez8pq</td>\n",
       "      <td>**FUCK I'M SO SORRY**</td>\n",
       "      <td>MY GIRLFRIEND DUMPED ME ON MY BIRTHDAY VIA TEX...</td>\n",
       "      <td>False</td>\n",
       "    </tr>\n",
       "    <tr>\n",
       "      <th>1</th>\n",
       "      <td>e0qo6l7</td>\n",
       "      <td>MechanicAdvice</td>\n",
       "      <td>t3_8rebe6</td>\n",
       "      <td>Sorry to hear bro.  I did a job and forgot to ...</td>\n",
       "      <td>I didn't torque my lug nuts properly after I r...</td>\n",
       "      <td>False</td>\n",
       "    </tr>\n",
       "    <tr>\n",
       "      <th>2</th>\n",
       "      <td>e4k58xo</td>\n",
       "      <td>Agoraphobia</td>\n",
       "      <td>t3_990s5i</td>\n",
       "      <td>Don’t forget to take care of yourself. That’s ...</td>\n",
       "      <td>You're right. I wish i knew how it felt. I wis...</td>\n",
       "      <td>False</td>\n",
       "    </tr>\n",
       "    <tr>\n",
       "      <th>3</th>\n",
       "      <td>e9g2v8k</td>\n",
       "      <td>BABYMETAL</td>\n",
       "      <td>t3_9vq48i</td>\n",
       "      <td>Don't come to mine. My daughter has the USB wi...</td>\n",
       "      <td>I don't know if I could take NR, NR at a funer...</td>\n",
       "      <td>False</td>\n",
       "    </tr>\n",
       "    <tr>\n",
       "      <th>4</th>\n",
       "      <td>e9tub0x</td>\n",
       "      <td>AskReddit</td>\n",
       "      <td>t3_9xkeuc</td>\n",
       "      <td>iLaughed. I'm so so sorry.</td>\n",
       "      <td>My parents told me at a restaurant, where they...</td>\n",
       "      <td>False</td>\n",
       "    </tr>\n",
       "  </tbody>\n",
       "</table>\n",
       "</div>"
      ],
      "text/plain": [
       "        id       subreddit    link_id  \\\n",
       "0  e5t56vg         bayarea  t3_9ez8pq   \n",
       "1  e0qo6l7  MechanicAdvice  t3_8rebe6   \n",
       "2  e4k58xo     Agoraphobia  t3_990s5i   \n",
       "3  e9g2v8k       BABYMETAL  t3_9vq48i   \n",
       "4  e9tub0x       AskReddit  t3_9xkeuc   \n",
       "\n",
       "                                            observer  \\\n",
       "0                              **FUCK I'M SO SORRY**   \n",
       "1  Sorry to hear bro.  I did a job and forgot to ...   \n",
       "2  Don’t forget to take care of yourself. That’s ...   \n",
       "3  Don't come to mine. My daughter has the USB wi...   \n",
       "4                         iLaughed. I'm so so sorry.   \n",
       "\n",
       "                                              target  good_condolence  \n",
       "0  MY GIRLFRIEND DUMPED ME ON MY BIRTHDAY VIA TEX...            False  \n",
       "1  I didn't torque my lug nuts properly after I r...            False  \n",
       "2  You're right. I wish i knew how it felt. I wis...            False  \n",
       "3  I don't know if I could take NR, NR at a funer...            False  \n",
       "4  My parents told me at a restaurant, where they...            False  "
      ]
     },
     "execution_count": 79,
     "metadata": {},
     "output_type": "execute_result"
    }
   ],
   "source": [
    "df2.head()"
   ]
  },
  {
   "cell_type": "code",
   "execution_count": 80,
   "metadata": {},
   "outputs": [],
   "source": [
    "id_to_target = {}\n",
    "for i, row in df2.iterrows():\n",
    "    id_to_target[row['id']] = row['target']\n",
    "df['target'] = df['id'].apply(lambda x: id_to_target[x])"
   ]
  },
  {
   "cell_type": "code",
   "execution_count": 81,
   "metadata": {},
   "outputs": [],
   "source": [
    "df['text_a'] = df['target']\n",
    "df['text_b'] = df['body']"
   ]
  },
  {
   "cell_type": "code",
   "execution_count": 82,
   "metadata": {},
   "outputs": [],
   "source": [
    "#model_file = '/shared/0/projects/condolence/working-dir/empathy-classifier-no-ftlm-only-reply-1234/checkpoint-2000-epoch-20/'\n",
    "model_file = '/shared/0/projects/condolence/working-dir/empathy-classifier-no-ftlm-1234/checkpoint-2000-epoch-20/'\n",
    "\n",
    "# Create a ClassificationModel\n",
    "model = ClassificationModel('roberta', model_file, num_labels=1, \n",
    "                            use_cuda=True, cuda_device=4, args=train_args)\n",
    "#print(train_df.head())"
   ]
  },
  {
   "cell_type": "code",
   "execution_count": 83,
   "metadata": {},
   "outputs": [
    {
     "data": {
      "application/vnd.jupyter.widget-view+json": {
       "model_id": "4e382d808d5e4d7591007334d68dcfd6",
       "version_major": 2,
       "version_minor": 0
      },
      "text/plain": [
       "HBox(children=(FloatProgress(value=0.0, max=1.0), HTML(value='')))"
      ]
     },
     "metadata": {},
     "output_type": "display_data"
    },
    {
     "name": "stdout",
     "output_type": "stream",
     "text": [
      "\n"
     ]
    },
    {
     "data": {
      "application/vnd.jupyter.widget-view+json": {
       "model_id": "3703f93e6f8240b2bfd57e23470cc39b",
       "version_major": 2,
       "version_minor": 0
      },
      "text/plain": [
       "HBox(children=(FloatProgress(value=0.0, max=1.0), HTML(value='')))"
      ]
     },
     "metadata": {},
     "output_type": "display_data"
    },
    {
     "name": "stdout",
     "output_type": "stream",
     "text": [
      "\n",
      "1.0981085\n",
      "1.0981085\n"
     ]
    }
   ],
   "source": [
    "toy_unlabeled_data = [[\"\", \n",
    "                       \"Yes, but wouldn't that block the screen?\"]]\n",
    "predictions, raw_outputs = model.predict(toy_unlabeled_data)\n",
    "print(predictions)\n",
    "print(raw_outputs)"
   ]
  },
  {
   "cell_type": "code",
   "execution_count": 84,
   "metadata": {},
   "outputs": [
    {
     "data": {
      "application/vnd.jupyter.widget-view+json": {
       "model_id": "39662a903b9448a7afdbed5149347837",
       "version_major": 2,
       "version_minor": 0
      },
      "text/plain": [
       "HBox(children=(FloatProgress(value=0.0, max=173293.0), HTML(value='')))"
      ]
     },
     "metadata": {},
     "output_type": "display_data"
    },
    {
     "name": "stdout",
     "output_type": "stream",
     "text": [
      "\n"
     ]
    }
   ],
   "source": [
    "to_predict_data = []\n",
    "for i, row in tqdm(df.iterrows(), total=len(df)):\n",
    "    to_predict_data.append([row['target'], row['body']])"
   ]
  },
  {
   "cell_type": "code",
   "execution_count": 85,
   "metadata": {},
   "outputs": [
    {
     "data": {
      "text/plain": [
       "173293"
      ]
     },
     "execution_count": 85,
     "metadata": {},
     "output_type": "execute_result"
    }
   ],
   "source": [
    "len(to_predict_data)"
   ]
  },
  {
   "cell_type": "code",
   "execution_count": 86,
   "metadata": {},
   "outputs": [
    {
     "data": {
      "application/vnd.jupyter.widget-view+json": {
       "model_id": "fb328857e57943fc96f7b46aae3fe2aa",
       "version_major": 2,
       "version_minor": 0
      },
      "text/plain": [
       "HBox(children=(FloatProgress(value=0.0, max=173293.0), HTML(value='')))"
      ]
     },
     "metadata": {},
     "output_type": "display_data"
    },
    {
     "name": "stdout",
     "output_type": "stream",
     "text": [
      "\n"
     ]
    },
    {
     "data": {
      "application/vnd.jupyter.widget-view+json": {
       "model_id": "ff8e5fbc6d0749deb26ec5977c107769",
       "version_major": 2,
       "version_minor": 0
      },
      "text/plain": [
       "HBox(children=(FloatProgress(value=0.0, max=21662.0), HTML(value='')))"
      ]
     },
     "metadata": {},
     "output_type": "display_data"
    },
    {
     "name": "stdout",
     "output_type": "stream",
     "text": [
      "\n"
     ]
    }
   ],
   "source": [
    "predictions, raw_outputs = model.predict(to_predict_data)"
   ]
  },
  {
   "cell_type": "code",
   "execution_count": 87,
   "metadata": {},
   "outputs": [],
   "source": [
    "df['roberta_empathy'] = raw_outputs"
   ]
  },
  {
   "cell_type": "code",
   "execution_count": 88,
   "metadata": {},
   "outputs": [],
   "source": [
    "df['roberta_empathy_bin'] = df['roberta_empathy'].apply(lambda x: 1 if x >= 2 else 0)"
   ]
  },
  {
   "cell_type": "code",
   "execution_count": 89,
   "metadata": {},
   "outputs": [],
   "source": [
    "df.to_csv('../../data/regression/good_condolence.roberta-scored.csv', index=False)"
   ]
  },
  {
   "cell_type": "code",
   "execution_count": 90,
   "metadata": {},
   "outputs": [
    {
     "data": {
      "text/plain": [
       "0.3428793121330908"
      ]
     },
     "execution_count": 90,
     "metadata": {},
     "output_type": "execute_result"
    }
   ],
   "source": [
    "df['roberta_empathy'].corr(df['buechel_pred'])"
   ]
  },
  {
   "cell_type": "code",
   "execution_count": 91,
   "metadata": {},
   "outputs": [
    {
     "data": {
      "text/plain": [
       "<matplotlib.axes._subplots.AxesSubplot at 0x7f4c180dbc50>"
      ]
     },
     "execution_count": 91,
     "metadata": {},
     "output_type": "execute_result"
    },
    {
     "data": {
      "image/png": "[encoded data removed]",
      "text/plain": [
       "<Figure size 432x288 with 1 Axes>"
      ]
     },
     "metadata": {
      "needs_background": "light"
     },
     "output_type": "display_data"
    }
   ],
   "source": [
    "df['roberta_empathy'].hist()"
   ]
  },
  {
   "cell_type": "code",
   "execution_count": 92,
   "metadata": {},
   "outputs": [
    {
     "data": {
      "text/plain": [
       "2834"
      ]
     },
     "execution_count": 92,
     "metadata": {},
     "output_type": "execute_result"
    }
   ],
   "source": [
    "len(df[df['roberta_empathy'] >= 2]['body'])"
   ]
  },
  {
   "cell_type": "code",
   "execution_count": 96,
   "metadata": {
    "scrolled": false
   },
   "outputs": [
    {
     "name": "stdout",
     "output_type": "stream",
     "text": [
      "You're right in the middle of it, you're still going to be hardcore processing whatever is going on, and one way or another, people find peace with things mostly when they are set in stone. There's just so many unknowns in play right now, being apprehensive isn't strange. Leading up to treatment I was really nervous (though sex was better, because it had been stripped of all the procreative pressure) but during treatment I actually felt better, because you're actively doing something. I felt more in control then.\n",
      "\n",
      "It really is terrible what you've been through, but that does not mean your lofe has to keep being terrible. You made the right choice choosing to cut all ties and never second guess yourself on that. Feeling guilty only shows how much of a better person you are, as they cannot even begin to understand that emotion truly. \\n\\nAny parent that can calmly accept the rape and attempted rape of two of their own children (by their own child no less) can not even be called parents in my opinion. It is vile and despicable and I hope your sister is safe. \\n\\nAlso hope you are doing well and can continue to thrive on your own. Best holiday wishes.\n",
      "\n",
      "I lost my mother last year around this time.....take your time, decompress, and acknowledge that there will be a wave of emotions. Don't fight them regardless of how one may want to be \"strong\". They allow for the necessary catharsis. This will change you, through it all remind yourself to use this as a push to change you for the better. \\n\\nSending good vibes.\n",
      "\n",
      "I'm so sorry. I've been there, and I understand. It's OK to break down and feel your grief, but it sucks hard when you have to go back to work like everything is fine. I hope the rest of the day flies by and you can have a quiet evening to feel and do whatever you need.\n",
      "\n",
      "Hey, I know it sucks. I’ve gone through a similar situation. But I promise you it’ll get better! Sometimes the best thing to do is move on, I know it might be hard to accept but slowly it’ll get better. If you ever wanna talk feel free to message me!\n",
      "\n",
      "I'm so sorry for your loss. Losing someone so dear to you is never easy. Please know that it is not your fault and she would have not wanted you to spend the rest of your life feeling like you are to blame. It's such a tragedy her life ended so soon. I hope you find peace\n",
      "\n",
      "I've been there. Remarcably similar situation. All I'm saying is this, don't blame yourself. It's a piece of shit thing to say nevertheless.\n",
      "\n",
      "And you should ... your heart has been broken. But don't let yourself dwell on that for too long. Relationships end. So what has happened to you is normal.\\n\\nGive yourself time to feel like shit, to be sad, to remember the good times. And then pick yourself up and don't wallow in it.\n",
      "\n",
      "Hi Sunbbt. As the parent of a first year Eng. student at Waterloo and as someone who has struggled through clinical depression, I also urge you to talk to someone about your feelings. I think that reaching out here and sharing your struggle on this difficult day, is very courageous and is a great first step. Next step: please make a connection with someone you trust and/or the numbers provided by the Campus Police to help you get professional support. It makes me heartsick as a parent to know that you are in so much pain. This is not your fault! I also want you to know that this pain, although it feels intolerable (I know) is treatable and it is possible to go on to experience a renewed sense of joy, peace and purpose in your life regardless of how unfair and rough life can be sometimes. In the past I experienced the despair and emptiness of clinical depression for a period of several years. Thanks to therapy and medication I recovered and have been free of depression for many years now. I am so very grateful that I didn't give up ( although I felt like it many times) and persisted through the process of recovery. My thoughts are with you!\n",
      "\n",
      "The hardest and most important thing to remember about situations like this is that it's not actually uncommon for awful, terrible spouses who were absolutely unacceptably horrible to you to, upon being divorced, grow up and learn their lesson and recover from their problems and go on to be a significantly less horrible partner to someone else, and this *does not mean you could have gotten them to do that for you*. Not because you're personally inadequate, but because it's literally not possible; no amount of patience and understanding will work, only being permanently broken up with will work. \\n\\nMarriage is great, but as you say it is a team effort. Don't settle for a teammate you have to *cope with*. Find one who actually improves your life.\n",
      "\n",
      "I'm so sorry. You just lost your best friend, that's a terrible thing and it's okay to be torn up about it for a while. Please be kind to yourself, grieve however you will, and talk to someone about it if you truly feel you can't go on.\n",
      "\n",
      "Don't blame yourself. You know that you are not a cruel person in your heart and that her severe cruelty to you brought out the same in return. She cheated on you and then took months to own up to it after the breakup. Move on from this horrible person.\n",
      "\n",
      "I'm so sorry for your loss. It's never easy, even if it's not unexpected, but losing a parent is the pits. And I think we often forget that grieving is actual, hard work. It's not just something that happens to you, it's an active process that you are constantly working through and navigating, and it takes up a ton of your mental/emotional bandwidth. Don't underestimate yourself, you've got a lot on your plate (and have for a while now, it seems) and you're almost all the way through a PhD program! I don't think you're correctly assessing how monumentally difficult that is, and how much work you've already done to get here. By no criteria is that failure! Be more generous with yourself, it may not feel like it from the inside, but you're doing great. I know it's frustrating to feel stuck, but give yourself permission to feel and do what you need to feel and do. If that is crying a lot, or taking a couple of extra weeks to finish your thesis, that is 100% okay. \\n\\nIDK what kind of program you're doing, or what form your thesis takes (dissertation, body of work, etc.) but would it help to dedicate it to your dad? Even unofficially, just thinking of finishing it to honor his memory might be something actionable, to help you feel like you're doing something/not stuck. \\n\\nI wish you all the best as you move forward.\n",
      "\n",
      "I definitely understand the guilt feelings. They’re your family and even as dysfunctional as it is we still care. And that’s why detaching with love is so important. It’s not selfish to take care of yourself and support others from a healthy distance. \\n\\nI’m not sure what your relationship with your mother is but Jerry Wise has some excellent videos on YouTube about enmeshment and codependency with parents. In my case, my father was unreliable and emotionally distant so my mother relied on me to fulfill her emotional needs and to raise my siblings. She and I had a relationship built around my father’s drinking and a lot of guilt/shame/resentment. Moving away allowed me to start working on a better relationship with her. Where I treated her like an adult and she didn’t dump all of her responsibility and issues with my father onto me. Me telling her that I wasn’t coming home anymore allowed her to see that she had a choice just like me and decided to divorce my father instead of living with the toxicity and dysfunction. \\n\\nIf you can move out or transfer then you may find that you are more than capable of being independent and setting healthy boundaries and taking care of yourself! And while you’re at it, your college may have mental health services to help! That was a life saver for me when I moved on campus :) best of luck!\n",
      "\n",
      "i really don't think it's going to help you if you frame it as you letting her down.... i've seen you say that at least a couple times in here and i know you're grieving so deeply, but this is not something you should blame yourself for. i also saw you mention that you don't have money for counseling - there are some online places that might be cheaper and might help. i'm really sorry for your loss.\n",
      "\n",
      "Grief isn’t always rational. Your Dad sounds like he’s in extreme emotional pain and is probably just looking to feel heard and understood. Grief can be overwhelming and so much of it is kept private, it can be hard to share and release it. It’s good that he’s talking about his brother, it’s good he wants to share, it’s better than keeping his pain inside and suffering alone. \\n\\nIt’s okay if you don’t remember, maybe just tell him that you were so little and ask him to share about what his brother was like back then. If you have things to attend to with your baby and can’t listen, then explain as gently as you can and arrange to have a talk when you do have time for him. \\n\\nThis is a massive time in his life. His brother just died, possibly from suicide. His grandchild came into the world. Things are changing and he’s getting old. He’s reminiscing about times gone past. Let him, give him the space to grieve and understand that this is really hard for him x\n",
      "\n",
      "I am very sorry to hear that, and hope that you are finding help that works for you, and are starting to feel better. \\n\\nIt does make sense to have an attorney represent you for this. It isn't particularly common for the state to decide to place children outside the home in this sort of situation unless you are still at risk or you are or potentially neglectful of the children due to your depression and mental health. It can feel overwhelming to face a social worker with this much potential to impact your life while you are struggling with your own issues, so an attorney can help guide you through the process as well as take care of much of the communications with them. They can also help you address any potential concerns the state might have before an interview or home visit to help you be best prepared for their investigation. \\n\\nAgain, I am sorry to hear of your struggles and stresses, and truly hope things begin to get easier for you. Take care.\n",
      "\n",
      "Don't blame yourself too much. If they were treats for ferrets that were actually unsuitable for them it's the companys fault.\n",
      "\n",
      "I must say as Afghan war veteran I admire your ability to take this head on and talk about it so soon. It is an important step toward coming to terms with this horrible situation, and one step that took me a very long time take. I want you to know that is does get easier as time moves on. My sincerest condolences for the losses that you have witnessed, it is something that no person, let alone a teenager should experience thoughts and prayers with you.\n",
      "\n",
      "Its ok to cry nub, just know you gave your dog the best life it could have. That is our duty as dog owners. To care for them until the end.\n",
      "\n",
      "Life is always going to bring people in our lives who are not meant to stay. What is meant for you will. It’s ok to grieve and feel the sense of loss and all the emotions that come with it. But don’t make the mistake of holding on to something that is no longer in your life. You only hold yourself back from actually finding real, and lasting love. How much room can you fit in your heart right now if they were to show up today? \\n\\nIt is a choice. And you can choose to be happy.\n",
      "\n",
      "Don't blame yourself. We try and save as many as we can, but it's not always possible. You're already doing more than 99% do.\n",
      "\n",
      "I'm so sorry that you're burdened with that kind of guilt. All I can say is that I know it's not your fault, and please try not to blame yourself. In a perfect world, Dylan would opened up to his other friends and/or family. In a perfect world, Eric and Dylan wouldn't have been friends. Eric's rage and \"power\" (as Dylan perceived it) were incredibly seductive for Dylan, and with his craving for approval and the inferiority he constantly felt, he was drawn in by it. It was the perfect storm. It was an incredible tragedy. But it did not happen because you weren't able to stop it.\n",
      "\n",
      "Hi there, I would recommend honoring the space that they're in and recognizing that it's okay to not be okay for a period of time. There is loss and adjustment here - the loss and instability of emotional connect to parents and losing a pet.\\n\\nIf this person has friends who can reach out and connect, perhaps that's something you can help organize for them. You may mention to this person that there are people, like therapists or university/college counselors, that can help them work through these losses. I might also recommend a medication consultation for anti-depressants based on the duration of the depressed and hopeless feelings. \\n\\nIf this person is you, I'm glad you came here. Consider talking to a friend about what you're going through or reaching out to a counselor at your school for extra support. A lot of campus counseling centers are free if you're enrolled. I hope this helps.\n",
      "\n",
      "It's hard to make the decision, but you made the right call. Losing a dog is truly like losing a piece of yourself, you invest yourself so fully in them because they're a dog. You can tell he loved you and that you gave him a good life in the photos. \\n\\nIgnore the people telling you to up the AI, even if it's just joking I find it tasteless in the case of loss like this. Like we should just bury our feelings and not acknowledge them. The empty feeling and feeling of loss while painful is necessary. It's important to grieve. \\n\n",
      "\n",
      "You’re welcome internet buddy..\\n\\nI know the words of an internet stranger mean very little, but I do hope you let yourself grieve. Let yourself feel afraid, pained, confused, broken, bitter, angry and all the emotions that come from having loved someone to your core, and lost them. It’s ok, it really is. \\n\\nPm me any time if you want to chat.\n",
      "\n",
      "I'm so sorry for your loss. Good on you for keeping at it through a tough workout and a tough time. You may not feel like it but it's definitely making you stronger. Sometimes the days when you don't want to work out are the times when you need it the most.\n",
      "\n",
      "aw honey im so sorry:( i know this can be so hard. ive been with my boyfriend for 4 years now, a year and a half of those being 200 miles away from him. it's not easy when you feel like the world is pushing you away from each other, and it hurts real bad.\\n\\nbut this is what growing up and loving someone and making yourself vulnerable is all about. sometimes we get scared that a person is our Dancing With Our Hands Tied, when theyre actually our Stay Stay Stay. either way, i know youre gonna be okay. you got this. sending you love &lt;3\n",
      "\n",
      "Np! I truly meant every word. You handled everything perfectly. The emotions you are feeling are totally normal for an untrained bystander to feel after this kind of situation. But, you have no reason to feel guilty. You did everything right. Also, if you continue to feel emotional about the situation, please reach out and talk to a professional. It's totally normal. You experienced a stressful emergency situation. Don't bottle up those feelings if they continue to bother you.\\n\\nI definitely recommend a first aid course. You can look into an EMR class (first aid- includes bleeding control, CPR, etc), but at the bare minimum, I cannot stress enough how important it is for *everyone* to take a CPR class. The most important thing in an OHCA (stands for out-of-hospital cardiac arrest) is early CPR and electricity. There is a very short amount of time (less than 4 minutes) that the brain can go without oxygen once the heart stops beating effectively. Cardiac arrest in the prehospital setting has poor statistical outcomes because not enough people know CPR and are too scared to get involved. Also, if your restaurant does not have an AED, talk to management about getting one.\n",
      "\n",
      "I'm so sorry to hear of your loss. It's really strong and mature of you to be able to identify your feelings and why they are occurring, and to be the bigger person when you know you might feel weak. I admire that so much, and agree with you that even those who have been dealt a terrible hand should never try to drag others down with them.\n",
      "\n",
      "Fight the urge to shut down. There will be time to grieve once this is done, but if you take the necessary steps, you will be in a much better place financially while you grieve.\n",
      "\n",
      "Well clearly this backfired. She doesn't know the first thing about how this impacted you, and her actions taught you more than you wanted to know about \"the real *her*.\"\\n\\nWouldn't be overboard to tell her that, even if you needed saving *which you don't,* she's made herself the one person you'll never take a word of advice from. \\n\\nUgh. I have no new advice, just sympathy. Sorry this happened to you.\n",
      "\n",
      "I am so, sorry for your loss. I can't even begin to imagine what you are going through. I am so happy you found this thread because a lot of people have been reaching out to one another just listening, or lending their support and any advice they may have. You have every right to feel how you're feeling. Sending nothing but well wishes and hugs upon hugs &lt;3 Happy birthday, hun\n",
      "\n",
      "I'm so sorry for your loss. Reaching out for help when you are ready is one of the best things you can do for yourself and I'm sure your Mom would want you to do whatever your need to, to come to terms with losing her and start this new chapter of your life in a healthy way. \\n\n",
      "\n",
      "You shouldn’t feel bad about a show making you feel things. Especially re:zero, arguably the second most feels-inducing anime I’ve seen (behind Mahoutsukai no Yome). Making us feel things is what anime is designed for, and it’s why we watch it. \\n\\nI guess what I’m getting at is that you absolutely should let anime make you feel this way. You can’t just cherry-pick the best feelings from an anime; if you don’t let the sadness in, you won’t be able to feel the joy either. \\n\\nDon’t think of it as something fake. Think of it like this: life is just a collection of experiences, and the experience of watching an anime is as real as anything else in your life.\n",
      "\n",
      "You and your fdh are making a ton of progress. The odds really are stacked against you as a couple. His mother had made sure of it. \\n\\nGive yourself time to process and grieve. Then work more with the bond between you and fdh.\n",
      "\n",
      "Feelings are involuntary my friend, we have no control over them. What you are saying right now is the equivalent to getting mad at your hand for hurting after touching a hot stove. So you have to accept that this is just how you are feeling, and not compare yourself with others. On top of that heartache is like one of the top worst pains known to man, why do you think there are so many goddamn songs about it! My advice to you is if you haven't already, completely remove anything that reminds you of her from your life, and stop contacting her all together. That's when the healing starts, and the feelings will go away on their own in time.\n",
      "\n",
      "I just wanted to chime in with my support for taking care of yourself and getting help if you need it. TTC for long periods of time is tough even if you don't struggle with depression. Please don't feel guilty, everyone is allowed to feel how they feel. Sending you lots of hugs ❤\n",
      "\n",
      "Hey man, from what I've seen you were already trying to help him. It's sad what happened, and I know it's hard, but you gotta let it go. I'm sure your brother wouldn't have want you to blame yourself for this, you know? What matters now is to monitor yourself and your family members, so if they are showing signs of frustration and depression, you can help them to get appropriate treatment, and prevent another tragedy. \\n\\nSorry I'm not so good at comforting people, just, (internet hug), stay strong, alright? For us and your family.\n",
      "\n",
      "No time limits or rules on grieving. You will lose friends who think you are “taking too long to get over it”. There is no getting over the death of a loved one. We only learn how to go on without them and for some each step is painful. I find small victories on a day when I do not cry when someone I’m struggling with crosses my mind. I try to laugh at the good memories. I write letters to the person when I’m feeling really bad. Anything to make my day better. Planting a garden or tree helps too. Death sucks when you are the one left behind. Not rushing my days bc there is beauty in each new sunrise but, I’m dreading the years bc loss is enviable. Sorry for the rambles. Remember the good times and don’t feel bad for grieving how you see fit.\n",
      "\n",
      "Glad-Svensk,.\\nYou are a special person. Your feelings, even the bad ones, are real and meaningful. Even at their worst, they are a gift to you. I know that sounds weird and dissonant, but stick with me.\\nWhen we experience pain - whether it is physical or mental - it is terrible. It is shocking and horrible and causes us suffering. Often, when in its midst, the only thing that can get you through is other people who can confirm to you that thepain will go away. Then you have hope.\\nThink about what it takes to truly know the pain will go away. Only those who have experienced the level of pain you feel can truly know it will pass.\\nBeing that person that can comfort those in pain is your gift. When you choose to believe there is hope the pain will pass, that’s when you have a gift to share with others when you see they are experiencing a pain you have lived through personally. And, please trust me that being the person who is a comfort to those in pain is one of the most rewarding experiences you can have in life.\\nThat experience is worth fighting for on its own. But your life will give you so many other gifts if you give it a chance and choose in your heart, with you will, and in your actions to seek out the reasons life is worth living.\\nI don’t know you or what your struggles are today and can’t pretend to be your comfort. That being said, I am here to talk about anything if you need a safe person to listen and offer whatever I can to help you begin healing.\\nThank you for reading and I genuinely hope the best for you in life.\n",
      "\n",
      "You made a very difficult decision and good job raising your daughter. But it was selfish. You didn't want to deal with the consequences of dealing with the fallout of your actions. To have that awkward conversation. You made the choice for someone without letting them make it themselves when it involved three other people. It was without a doubt selfish. You still ensured you were taken care of by going to his mom and having her finance part of your life.\\n\\n And you know what, you were young and scared. And made a mistake. But there was no martyrdom. You have to own it now and let him make his own choice. Let him decide whether it is too high a price to pay or not. You don't want your daughter to ask you about her dad down the line and have to lie to her.\n",
      "\n",
      "Can't agree with this more. Mate, it's a depressing situation, a loss, grief whatever you want to call it.\\nIt's not a race to get over it, this was/is part of your life. \\n\\nSaying how to avoid depression here is like falling off a cliff and saying 'I'm not falling and I'll be ok'.\\n\\nHave it all and listen to what it's saying, your mind is going to be going in and out of the present back to all the good times you had and into the unknown future. \\n\\nJust look at what you're doing with your values in mind. \\nDon't go out drinking/dating whatever to move on, go out to make new paths forward.\\n\\nAs for work, I'm sure (hope) any employer could see the need for some self care days off here.\n",
      "\n",
      "Hey! Don’t think for a moment it was in any way your fault! She sounds like an extremely toxic and backwards minded person. She can’t stop the fact that her children love you.\\n\\nDon’t blame yourself for this. You were in your home and you had the right to do whatever you wanted there.\n",
      "\n",
      "And it will for a good 6 months to a year. Change is hard but you have to accept it which you totally will in time. Take your time to deal with the emotions that come. Don't hold them inside best to let them out when they come and it will let you heal faster. Find a new healthy hobby or something that interests you to fill the space she left don't fill that space with another person because that will only make you hurt more. Join a gym join a club you will get through this.\n",
      "\n",
      "Unfortunately the only thing that will really fix this is time. You had a horrible shock and it's normal to be reeling. The question \"WHY\" and the closure you seek, unfortunately you will never get the answers. Just know that he is a shitty person and a liar, some people are like that. Eventually you'll be able to just look back and shake your head like \"Wow, what an ass that guy was\", but it will take a while.\n",
      "\n",
      "Please go to the police. Explain the situation to them and show them the evidence. I don't see how this could be turned against you, especially if it shows clearly that your wife is doing it. I understand that you are afraid that it'll go against you and that your daughter will not be safe, but I honestly don't know how it could happen given the amount of evidence you have. Get a lawyer to make sure everything is done correctly, so that any risk of her getting the custody of you daughter is removed. I know this is a very emotionally charged situation, but as an outsider, looking into it objectively with the info you provided, I just can't see why they would give your wife the custody if you have proof she is harming your daughter. Your dad is around, give him a call and explain the situation to him. I am sure he'll understand, and you will feel relieved if you talk to him. He can even keep your daughter safe in the short term.\n",
      "\n",
      "We all take different routes to process and get comfortable with our tragedies. The path you've chosen is clearly of giving more and helping out others. And what a wonderful way it is! \\n Give yourself time to heal - immerse yourself in a lot of volunteering and allow your heart to feel good about reaching out and making a positive impact on others.\\nBut having said that, never give up on the dream of having a family with twin boys/girls.\\n\\nYes, your children can never come back but that doesn't mean they can not remain in your family forever. Imagine a day when you'll share the memories of these two angels with your future kids.\\n\\nI too am not into faith or religion - but I believe in the strength of the spirit. You my friend will make through this. Just don't close the doors to hope.\n",
      "\n",
      "Don’t listen to your friends. People need to deal with the consequences of inappropriately ghosting somebody, that consequence being a natural response of “what the hell happened?”. There’s a difference between being “desperate” and being simply straightforward.\n",
      "\n",
      "There is something especially heartbreaking watching someone we love in pain, knowing that we're counting down the end of their days with them. It comes from not wanting to lose them yet feeling terrible for hoping for a quicker, less painful death for them. \\n\\nOur society is very much one that tries to do all that we can for the dying- including putting them through more torment than is really humane. \\n\\nI think it shows your love for him that you are wanting more for him than to keep him alive just for the sake of not losing him. He has said that he wants better for himself than to flicker out slowly like a candle out of wax. Bless you for wanting the same.\n",
      "\n",
      "Yes. I honestly don't think she's doing anything for attention.... she may just be so overwhelmed with life in general that she's not carrying through for other people. It's hard to be empathetic when that person is depressed.... it's like how can you take care of someone else when you can't even take care of yourself? \\n\\nSo I bet she gets nervous because of everything going on... the need to be at a party/celebration that she may be uncomfortable going to due to her mental state... and then she flops out on you, forgets your gift or to think about your needs and finally she realizes how shitty that is to do. When she sees this, she gets overwhelmed with anxiety. \\n\\n\\nShe absolutely must go into therapy. It's a must... she cannot say she's confused, scared, or anything. She needs to figure it out, and she needs to go. Just like jumping into a cold pool, she just needs to go for it. \\n\\n\\nPs I'm so sorry she isn't taking care of your needs. Don't forget: you deserve to be loved, praised, given gifts, celebrated, and everything. This is a heavy burden you're taking on being with someone with mental illness... but it can be worth the while if you stick it through and stay by her side. If she gets helped and treated, you may see an entirely new person in her that you've never met... one who is okay and can finally focus on others.\n",
      "\n",
      "Don’t be sorry. We wish you the best.\n",
      "\n",
      "You are not responsible for your father's actions- no human can fix another- you are showing honest compassion for a man who hurt others and himself. remember to be compassionate towards yourself and never mind the doctors- they don't have to live with the outcomes of your actions- but you do\n",
      "\n",
      "Here's a timeline for you. \\n\\nPeople who never went trough something like this, do not understand how long this takes to deal with. At first, people may get angry, as grieving is not only being sad, it has all emotions in it. \\n\\nBut after a long while, say a year, outsiders expect the family to be over this. You staying in touch with the parents will mean a lot to them. \\n\\nSo for the funeral and the next week, just go with the flow. You need to be at the funeral. Just be among the friends, not among the family. \\n\\nLater on, especially around the key day, like his birthday, x-mas, thanksgiving and other moments that his parents are confronted with his absence, like when his classmates graduate, and next april, do contact his parents. You might be a way for them to connect to the memories they have of him. It will be worth a lot to them. Especially when their Nd your friends assume it is not a big deal anymore. \\n\\nYou do not need to fix any relations right now. Now, everybody mourns in their own way and pace. Respect that and expect it to be rough.\n",
      "\n",
      "Don’t feel guilty that you have conditions that you didn’t do anything to get. If you have to take pain pills here and there so you are able to function that is nothing to feel bad about. Yes it’s a crappy time right now to need them. But keep your head up. We have to do our part to spread the word. And share what our lives are like. And spread awareness about our conditions. Most people don’t even know about your condition (I have everything but EDS) much less how much pain they have. So we have to do our part to make sure that people understand how much pain we deal with on a daily basis. \\n\\nMaybe this will help you too. https://theworldseesnormal.com/2018/09/22/what-they-want-you-to-know/\n",
      "\n",
      "I’m really sorry. People become especially clouded when someone is dying. This will pass. They will either eventually realise what the truth was, or they won’t be part of your life anymore so it won’t matter what they think of you. It will pass. It must really suck now though.\n",
      "\n",
      "Oh man. As hard as it is, don’t make a decision like that while you are so emotionally vulnerable. \\n\\nI don’t want to minimize what you are going thru because it is definitely a lot. Today is probably one of the worst days you have had in a long list of bad days. But just think of all the days you thought “I don’t know if I can get through this” and you did!!! You will get through this too and it will just be another bad day. \\n\\nYou can do this. You are strong. You have already made so much positive movement. You are inspiration to people trying to break the cycle of abuse. \\n\\nI can really empathize with having to comply with a court order that makes your skin crawl. I am elbow deep in an ugly custody battle. I watched my kids go with my fuck shit of an ex a few minutes ago until Sunday as well. \\n\\nWe can get thru this weekend together. 😊\n",
      "\n",
      "I know what you mean, you think you've prepped yourself for the pain but when it happens there was no chance to prepare for that.\\n\\nI'm so sorry for your loss.\n",
      "\n",
      "That's okay and normal. Maybe make yourself some tea or coffee or whatever it is you like? Put on a movie or something? In hard times like this it's important to take care of yourself.\n",
      "\n",
      "Very similar. I'm very sorry for your loss. It has been tough dealing with the emotions because you think the complex and rough times would somehow take away from the pain but it really doesn't. You still miss them! I learned I would take more of the horrible times to have some more of the good which I never expected. I'm sorry you had to have a birthday right after too, it really forces us to cope with a lot all within a short time frame. Especially around the holidays on top of it. I hope your birthday was okay and as good as it could have been given the circumstances.\n",
      "\n",
      "You're going through a very fresh situation. Give yourself time to process, reflect and rest. Be mindful not to overwhelm yourself with too much. Remind yourself that you're experiencing a difficult situation and there's a lot going on but know it is temporary. It will be hell at times but take it day by day. Maybe even write about it or journal or make a photo diary. Let go of the past.\\n\\nAre you able to get support for your drinking? Friends, family, professionals? Can you get some Valium to help in the meantime?\\n\\nYour ex may have done you a favour. After 6 years you have ended up like this, imagine if it was another 6 years more. You've been given an opportunity to sever your ties finally, seize it. \\n\\nMoving forward. You seem intelligent, do you have any qualifications or ideal careers you wanted to work towards? How about passions or interests?\n",
      "\n",
      "You have every reason and right to feel the way you do right now. Even the most rational people I know are getting concerned. What's going on isn't even remotely normal or okay, and I wish I could tell you otherwise.\\n\\n\\nHowever, there is real hope and options for keeping your sanity. The way to look at this is to identify that what you're feeling right now is the fight or flight instinct. Now, for me feeling kind of both, the best way to cope is by volunteering for any and all local Democratic campaigns. Getting out and walking door to door to meet and remind people to vote, talking to them on the phone and encouraging them to vote and even volunteer, or even just helping with cheerful postcards go a long way to directing that fear energy into something positive, and often fruitful. Since you're a service member's spouse, I'm not sure if that would make it different regarding what you can do in local elections, but iirc your help is welcome whether or not you're in your home state (which it appears you aren't).\\n\\n\\nIf that's something you're not sure you can do right now, consider volunteering for something that's not necessarily political. Homeless kitchens and food banks always need help, or helping with a botanical garden, things like that. Heck, even just getting out for a walk every day for a few minutes can help you reset. It's even more effective if you're close to something that knocks some perspective into you, like mountains or the ocean.\\n\\n\\nOur goal is to make it through this while still acknowledging it. If your spouse gets shipped out somewhere, which may very well happen, you have a wonderful support network of other military spouses who will be experiencing exactly the same thing as you. I'll have to end this here but you get the idea. I care about you and want you to be as much at peace as possible, and I really hope this helps!\n",
      "\n",
      "Don't beat yourself up, man. Most people probably aren't willing to admit that their first thoughts are about how they're affected, and those thoughts don't make you a bad person anyway.\n",
      "\n",
      "Believe me, my LDR honestly didn't want to break up with me either. She needs to take care of herself before she makes herself available to care for someone else. My LDR was my first and only relationship, and it ended the weekend before Spring 2018 finals, and believe me, because I spiralled into negative thoughts, it didn't have a good effect. For a few weeks, I felt worthless, had a few depression episodes, felt like I didn't deserve anyone. LDRs are tough, especially when they end without having met each other [We never got to meet either]. Talk to your friends m8. If not, then you got Reddit, and I'm always here to listen and talk to. Please, for your own good, take care of yourself. You're important m8! Don't let a relationship ruin you. Rebuild and get yourself together. Like I said, PM me if you need to talk. Always here :)\n",
      "\n",
      "It's fine, you don't have to share information that makes you uncomfortable! It's totally OK!\\n\\nIt's OK to take care of yourself first; I know how foreign that concept is to those of us who were RBB!\\n\\n*hugs*\n",
      "\n",
      "You are in no way not good enough for not being in a relationship. These are likely thoughts you have had for a long time to the point where you believe them, even if they are **not** true. You should in no way blame yourself for being down at times, you deserve the time you need to recover and heal in difficult times. It is good that you know that the standards you are putting on yourself in relationships are unrealistically high, and that you know that you are being unfair to yourself when you try to please others at your own expense. If you are doing things for the other person, and that person keeps demanding more even though you know it is unreasonable, then that is their fault, not yours. I feel like you need to gradually try to build these thoughts into your life, believe in them. With time, this will improve your self-esteem, not only because you change your thinking, but because those thoughts are true! Know that you are worthy of love and support, and should not give that up for someone else.\n",
      "\n",
      "Oh man, I am so sorry you’ve gone through all of this. Losing your dad must be super painful. To love and not be loved back is one of the most crucial feelings in the world. One day you’ll have the love of your life and you’ll just look back at and just think it was a dark time. \\n\\nI’ve recently taken up therapy maybe that will help you too. Best of luck xoxo\n",
      "\n",
      "Please put yourself first. It sounds like this is a really bad relationship for you because your DuH is putting his mother first. It's OK to separate for a while and work on yourself. Maybe you'll decide you're better off without him. Maybe you'll decide to give him another chance if (insert list of boundaries here) will be maintained. \\n\\nI'm glad you're seeing counselors. See a lawyer too so you can find out what you should be doing now to protect yourself legally and financially in case you decide in the future (whether that future is two weeks, two months, or two years form now) to divorce him. \\n\\n&gt;I will curl into a ball, hide in the guest room and cry. For days. I am not sure if MIL has actually seen this because I do hide, but husband knows. \\n\\nHe is showing you who he is (and it ain't pretty) - believe him.\n",
      "\n",
      "Don't question the choice you made, it'll only make things harder. You did what was right. He was in a lot of pain, and you gave him the blessing of letting him go. I've been in your same shoes with a few of my girls; even when they have come back from pneumonia, and they seem right as rain, they've ended up passing immediately over night, just completely out-of-the-blue. Most of the time, with my rats, using antibiotics just prolonged them being in pain. I don't know if you've seen agonal breathing, but it's one of the saddest, most obviously miserable things I've seen a rat go through. You did the selfless thing, what was best for your boy. And I know this may not help much, but for you, he with you for a tiny fraction of your life, but he was with you for the vast majority of his. It sounds like he loved you a lot, and knew he was loved, too. And I hope you were allowed to take his body back, so his rat family can understand what happened to him. Just make sure to take him out a really short time after they've all seen him.\\n\\nGive all your ratties some love for me\n",
      "\n",
      "It is not your fault you were or are unable to “do more” to prevent anything he does, has done or will do. He is not your responsibility, YOU are!!! Take sweet care of yourself, do your best to quiet that voice in your head that says that you aren’t enough or haven’t done enough or won’t do enough. Seek therapy, terrible things have happened to you and finding someone with the knowledge and expertise to help you is the smartest thing you can do. If your car breaks down and you don’t know how to fix it, what do you do? Bring it to a mechanic of course! Do the same for yourself, you’re not irreparable, you can find someone to help you discover new things about yourself.\\n\\nYou’re doing a good job and it’s clear that you know something isn’t right and you’re already reaching out. Take it a step further and find a professional! You deserve that love, attention and are so valuable.\\n\\nKeep up the good work!!!\\n\\nEdit: another though: what a delight to honor your daughter by taking wonderful care of yourself! She would love it, just like you love her. You’re already an excellent mother! You did everything you could for her and still love and miss her.\n",
      "\n",
      "Unfortunately in this life, people are shitty. Your daughter is probably living the good life right now, where ever that may be. Time heals all things, but there will always be scars to remind you of the pain you live with each day. It's important to talk about your emotions; find the things and people in your life that are important to you and help to bring you fulfillment. These will be healthy outlets for you. But everyone runs on a different timetable. Don't let anyone else put a timeframe on when you should be ready to take steps like these. It's okay to grieve and let yourself feel, but when it prevents you from living, even the dead don't wish that for us. I'm sorry for your losses. I hope life is kinder to you moving forward.\n",
      "\n",
      "Wow, a manipulative bitch and someone that needs mental help. \\n\\nNo doll- don’t let this weight set on your shoulders. It’s not your responsibility to be responsible for another grown ass woman. I think you made the right decision 100% even if it burned a few bridges.\n",
      "\n",
      "You're not screwed, you are your own person and you have choices! You must be feeling very overwhelmed right now, I would feel very scared if I was in your situation, too. Anyone would. I understand many things have been difficult for you based off your personal history. I know you are scared of your partner and worried for him. You deserve to put your needs first in this situation. You are ultimately not responsible for other people's actions.\\nI hope you can gather resources you need and have courage, I truly wish you luck. Some suggestions I can give you are keeping a diary involving timelines (ideally non-physical, but whatever keeps you safe), stocking up on secret food, talk to a women's shelter/the police for a safety plan, and lastly take care of yourself, even with the little things. In big times, it is easy to overlook your quality of life. You deserve a better life and I hope you get it. Be well. \\n\\nP.s a quote I enjoy: \"because in any one moment we are the sum total of every moment in our lives, on some level, our behaviour makes sense. If may not be functional or make sense in the context of our larger society, but it makes sense given who we are and what has happened in our lives\". A quote from a book titled \"loving someone with borderline personality disorder\", by Shari Y. Manning. An excellent read with useful tools for dealing with trauma and emotions.\n",
      "\n",
      "Well do what anyone else would do. Grieve and let all your emotions out. Don't hold anything in. I'm sure your grandma would want you to live a happy life. Until then all you can do is be beside her and enjoy life with her still on the earth. Tell her you love her hug her. But that's how we should treat everyone. Because you never know who you're going to see for the last time. She will always be in your heart. And one day you'll see her again.\n",
      "\n",
      "His expectations for you to do this with him must have been unrealistically high. \\nKeep in mind that you tried, but you didn't like it and made it known. If he cant respect/understand your feelings then that is on him and not you. Keep your head up.\n",
      "\n",
      "No one should have to find out like that. I'm sorry brother. That's fucking rough. \\n\\nDon't be ashamed of how you feel. It's probably one of the most soul crushing and unfair events that you can go through. \\n\\nJournaling has helped to decompress the thoughts and heavy feelings. Let's you release them out of your mind and onto paper or your phone rather than replaying them over and over. \\n\\nLove yourself man. It's a really hard thing to swallow and it will take a lot of time and work to recover. So it's okay to feel like your world is shattered for a bit. It really is hard and however you're feeling is completely okay right now.\n",
      "\n",
      "I don’t think anyone would expect you to feel any other way. Plus, you haven’t allowed yourself to even grieve your loss yet. You’re in a difficult position, feeling the sadness of the loss of your spouse and the joy of a new baby. But hormones can do crazy things to us after having a baby. Just stay on top of it, and reach out now, and you’ll get through this.\n",
      "\n",
      "ahh but how could you have known that was to be the last time you spoke to him if he had cancer for a year..i guess take with you that feeling and don't wait to tell people how tough feel or just be more connected to them..that could be the positive coming out of a negative situation..id Like to think your dad knew you were coming ..when my gramps passed i was there but even tho its like he didn't know that..he was alive but already crossing over and focused on that....i hope time will help you find the peace you need\n",
      "\n",
      "Yea I know how you feel. There's no words of comfort to be said it is what it is. I'm sure they'll get what's coming to them but in the meantime life sucks\n",
      "\n",
      "For what it's worth: I wish it didn't have to be this way either. I know how hard it is to feel like you have lost a family, please keep communicating your feelings either on here, to your partner; and/or to a professional because what you are feeling is valid and what you don't process or express hurts way more than what you do. You have been really brave, don't forget that there are tons of us on here rooting for you!\n",
      "\n",
      "D&amp;D CAN sometimes handle hard irl issues and be therapeutic, but the DM is not your therapist unless they agree to be. They need to balance their own needs and the needs of the other players with yours. You're vulnerable right now and that's ok and not your fault, and it's great that the game helped you, maybe it can again, but imo you are asking too much of it and the DM right now. \\n\\n I also am depressive, emotional and at times the game is a real lantern unto my boots. So. hail sister. Talk to the DM, maybe you can get more of what you want without taking that blood out of him or her, or maybe your relationship to the game has become unhealthy and a break is called for before regrouping and trying again.\n",
      "\n",
      "I'm so sorry. Don't blame yourself.\n",
      "\n",
      "I’m so sorry, appeleyes♥️ \\n\\nOne failure is still devastating and you have every right to tap out and explore other options with your RE. You’ve been through too much already and if there’s anything that might be less traumatic I think it’s worth considering.\n",
      "\n",
      "It’s a loss. Whether it was an imagined possibility or a real one. Be fucking sad, man. It’s not fun. Bad feelings are okay to have when not so good things happen.\\n\\nShe might understand and she might not, just like you making this decision was up to you, the way she feels is up to her.\\n\\nA loss is a loss. You’re not gonna feel great for a little bit but it will get easier. The sadness is finally recognizing that you were waiting for something that would never really happen and by being this sad you’re actually finally sitting down and accepting it. And that’s okay. It’s healthy to be upset at losing something.\\n\\nGet some rest, focus on the next step and start to forget about her the best you can. It’ll happen and you’re taking steps toward healing. You’ve got this, even if it doesn’t feel like it right now.\n",
      "\n",
      "Sending so much love. It’s ok to be sad. It’s sad and it sucks and it’s unfair. I hope you can grieve but also eventually find the peace to not blame yourself.\n",
      "\n",
      "It is very hard to clearly think about the things you want to say when you’re emotional.\\n\\nIn terms of friendship, trying again... Although my initial instincts are wtf would you want her back, I’ll give you this advice:\\n\\nGive yourself some time to grieve this relationship but stay no contact. Hang out with friends, family, bust your ass at work, bust your ass exercising (worth it just for the endorphins), feed yourself, take care of yourself. Feel proud of yourself. It’ll take time, but you will get into a better place. And when you’re in that better place, two things will happen: either you’ll be a better man and she’ll be a better woman and there’ll be something there, but with more understanding and respect. OR you will be a better man, she won’t be a better woman, and you’ll truly be over her and know that you deserve more.\\n\\nIf she tries to reach out to you, anything less than “I am terribly sorry, I acknowledge these things that I did and I want to be with you and show you I’ve learnt from my mistakes” does not merit a response. \\n\\nNo judgement on what you feel, because you’re in the midst of heartbreak. Just make that your goal - better man with or without her.\n",
      "\n",
      "I am so sorry. It is always the people closest to us that make it the most difficult to break away...even when it is the best thing for us and our health. You made a mistake but, please do not dwell on it and do not blame yourself. You cannot control the past but, you can control your future and the manner in which your daughter will grow up. The fact that she has a mom who wants to be sober and present says that you are so much stronger and better than that man who fathered you ever was. It may be difficult but, writing them off sounds like the best thing for you and your daughter. \\n\\nBest of luck. &lt;3\n",
      "\n",
      "Thank you for being open about your emotions in a world where it’s hard for guys to do so because they’re supposed to be the “tough” ones. Letting your emotions out and being open about them takes more effort then keeping them locked in so thank you for your bravery and you might not know it but your story will touch other boys who might just be looking at posts on this app because they’re afraid to be open about their emotions because they’re supposed to be boys. You’re making a difference, just know that\n",
      "\n",
      "I also work with a pet crematorium, and we always send home the correct ashes to owners. Please don't feel bad. This person doesn't know what they are talking about.\n",
      "\n",
      "I’m terribly sorry to hear this. \\n\\nPeople will get defensive and extra cautious when you tell them, unless they’re heartless assholes. \\n\\nThe sympathy can be helpful at times and annoying at others. \\n\\nSo choose whom you want to share this news with. \\n\\nRemember though, you can do this on your own. But it will be very hard. It helps to have a support system. But limit it to people you actually care about.\n",
      "\n",
      "Oh friend, I'm so sorry. These situations can create a trauma response within us. It's important to talk with someone about it, to be aware of the trauma reactions within your body and to know which reactions are totally normal. Like shaking, or even convulsions, are the body's natural response to an event like this. I had two friends die in a mass shooting event and the trauma of that was so surprising to me, and scary. Reading about Somatic experiencing has really helped me. This guy is kinda too chill, but he suggests a few ways to get through the next few days. \\n\\nhttps://youtu.be/twsTpfN8sgo\\n\\nBe kind to yourself. And all this goes for your dad, too.\n",
      "\n",
      "You're not obligated to feel a certain way. Feelings at times like that are really unpredictable. \\n\\nI felt very little when my father died. The cognitive shock of contending with the fact that he was a poor father and his weakness defined some of the worst facets of my life, combined with the biological and existential shock of a family death and the sudden realisation that life isn't neat and tidy and doesn't make sense caused me to feel a sum total of numb. I cried once, and have rarely thought about him since.\\n\\nJudging yourself in these unforeseeable times is unproductive, not many of us handle death with ease and grace.\n",
      "\n",
      "This is a natural part of the grief process and will pass. Hang on for your family's sake for now, whatever keeps you here and keeps you going until the fog lifts. Please keep in mind that each of these dark feelings will pass even though each feels permanent while you're immersed in it.\\n\\nListen for music, the feeling of hunger.. simple pleasures will begin to become available again soon, within weeks or maybe even days. You can find refuge from the pain in these simple acts. Hang on, wait for them, relief is coming with time.\\n\\nIt's not your fault &amp; you're not alone ❤\n",
      "\n",
      "It is NOT your fault sweetheart - you are dealing with enough already and it isn’t too much to ask that your family take seriously something so enormous and just respect what you ask of them without having to make a massive deal about it. ❤️\n",
      "\n",
      "Its very hard to have the one person you really count on, be the one person you should never count on. \\n\\nThe heart makes us slaves to our base emotion to want someone to keep us secure to share our fear with, while our minds struggle to remind us we are secure within ourselves first. The other person our heart takes us to is a partner only. \\n\\nA BPD person can be a partner, but their needs must be first in all things. \\n\\nPlease dont make yourself go through the pain it takes to be there for a BPD. I'm 25 years into my relationship and it has been heartbreaking and soul crushing. If you don't get out early and keep trying to help them, it just tangles you tighter and tighter into a life of just living to keep them going. \\n\\nPlease harden your heart for a little while, until the need to go back to him passes.\\n\n",
      "\n",
      "It is a special kind of sadness, being the one who has to decide to let go of your beloved pet. Hang in there, and I think you made the right decision for him. RIP Runt!\n",
      "\n",
      "Even if this doesn't help, do not blame yourself for it. You definetely loved your mum, if you simply couldn't do this at that time, it is ok. You musn't blame yourself for self protection. I have lost my own mum with breast cancer at the age of 4 and due to circumstances with a bad stepmother, dead grandmother, not caring father I was really close with my mother's father, ofc my granddad. When I was 16 and he 92 his health went badly down. We had to organize help for him at home and when it got worse decided to bring him to a senior home. As I was the only grandchild still living there and my aunts far away, I was completly involved in everything. He died three days after we sent him there. I've only visited him once during his time there, for maybe 5 minutes. I could still cry thinking about it, I really, really know what you feel like. I sometimes blame myself for letting that old man I loved so much alone in his darkest hour. But I can still remember how exhausted I was and how relieved to give up the responsibility I simply couldn't take at the age of 16. And I know by the deep of my heart that at that moment I simply couldn't do it or I would have broken down.\\nTo come to an end: You really aren't a bad person because you did what you did. There are so many circumstances, so many feelings and so much stuff around in situations like this. Nobody should blame himself for taking not more then being able to take. It is ok, even if regretted later on. When I once realised this, I could get slowly over it.\\nGlad you have help with therapy. Keep it going!\n",
      "\n",
      "Well you have to take care of yourself. What if it’s over? Then what? You move on. It’s not the end of the world.\n",
      "\n",
      "Lost my dog two weeks ago, on my birthday. I understand how you feel; it’s never easy losing someone you love. But she’s up in doggy heaven chasing squirrels and eating all the damn treats she wants. But there’s always a hole in your heart without her here, and it gets easier, but it still hurts like hell. Wishing the best for you.\n",
      "\n",
      "&lt;3 Keep reaching out to people and letting your feelings out and taking care of yourself!\n",
      "\n"
     ]
    }
   ],
   "source": [
    "for i, row in df[df['roberta_empathy'] >= 2].sample(100).iterrows():\n",
    "    #print(str(row['roberta_empathy']) + '\\t' + row['body'] + '\\n')\n",
    "    print(' '.join(row['body'].split()) + '\\n')    "
   ]
  }
 ],
 "metadata": {
  "kernelspec": {
   "display_name": "Python 3",
   "language": "python",
   "name": "python3"
  },
  "language_info": {
   "codemirror_mode": {
    "name": "ipython",
    "version": 3
   },
   "file_extension": ".py",
   "mimetype": "text/x-python",
   "name": "python",
   "nbconvert_exporter": "python",
   "pygments_lexer": "ipython3",
   "version": "3.7.4"
  }
 },
 "nbformat": 4,
 "nbformat_minor": 2
}
